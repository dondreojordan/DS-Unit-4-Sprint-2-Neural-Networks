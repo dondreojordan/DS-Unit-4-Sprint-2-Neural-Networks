{
 "cells": [
  {
   "cell_type": "markdown",
   "metadata": {
    "colab_type": "text",
    "id": "HJzTIkYAsLxw"
   },
   "source": [
    "Lambda School Data Science\n",
    "\n",
    "*Unit 4, Sprint 2, Module 4*\n",
    "\n",
    "---"
   ]
  },
  {
   "cell_type": "markdown",
   "metadata": {
    "colab_type": "text",
    "id": "YCf3jDMVQHuI"
   },
   "source": [
    "# Neural Network Frameworks (Prepare)"
   ]
  },
  {
   "cell_type": "markdown",
   "metadata": {
    "colab_type": "text",
    "id": "GR0XBF5HQHuI"
   },
   "source": [
    "## Learning Objectives\n",
    "* <a href=\"#p1\">Part 1</a>: Implement Regularization Strategies\n",
    "* <a href=\"#p2\">Part 2</a>: Deploy a Keras Model\n",
    "* <a href=\"#p3\">Part 3</a>: Write a Custom Callback Function (Optional)\n",
    "\n",
    "Today's class will also focus heavily on Callback objects. We will use a variety of callbacks to monitor and manipulate our models based on data that our model produces at the end of an epoch.\n",
    "\n",
    "> A callback is an object that can perform actions at various stages of training (e.g. at the start or end of an epoch, before or after a single batch, etc). -- [Keras Documentation](https://keras.io/api/callbacks/)"
   ]
  },
  {
   "cell_type": "markdown",
   "metadata": {
    "colab_type": "text",
    "id": "TWuoXZCCKCI7"
   },
   "source": [
    "# Regularization Strategies (Learn)"
   ]
  },
  {
   "cell_type": "markdown",
   "metadata": {
    "colab_type": "text",
    "id": "E3aMJZuPQHur"
   },
   "source": [
    "## Overview\n",
    "\n",
    "Neural Networks are highly parameterized models and can be easily overfit to the training data. The most salient way to combat this problem is with regularization strategies.  \n",
    "\n",
    "![](https://upload.wikimedia.org/wikipedia/commons/thumb/0/02/Regularization.svg/1920px-Regularization.svg.png)\n",
    "\n",
    "There are four common ways of regularization in neural networks which we cover briefly. Here's a quick summary of how to apply them: \n",
    "\n",
    "1. Always use EarlyStopping. This strategy will prevent your weights from being updated well past the point of their peak usefulness.\n",
    "2. Use EarlyStopping, Weight Decay and Dropout\n",
    "3. Use EarlyStopping, Weight Constraint and Dropout\n",
    "4. Also think about the architecture (number of layers, neurons) - determines number of parameters, which is the basis of overfitting - but even \"small\" neural nets can be complicated and overfit!\n",
    "\n",
    "Weight Decay and Weigh Constraint accomplish similar purposes - preventing over fitting the parameters by regularizing the values. The mechanics are just slightly different. That's why you would not necessary want to apply them together."
   ]
  },
  {
   "cell_type": "markdown",
   "metadata": {
    "colab_type": "text",
    "id": "3FFhK0tLQHus"
   },
   "source": [
    "## Follow Along"
   ]
  },
  {
   "cell_type": "markdown",
   "metadata": {
    "colab_type": "text",
    "id": "RO74ukb-QHus"
   },
   "source": [
    "### Early Stopping"
   ]
  },
  {
   "cell_type": "code",
   "execution_count": 1,
   "metadata": {
    "colab": {},
    "colab_type": "code",
    "id": "xgQR_iCHSF1x"
   },
   "outputs": [],
   "source": [
    "%load_ext tensorboard"
   ]
  },
  {
   "cell_type": "code",
   "execution_count": 2,
   "metadata": {
    "colab": {
     "base_uri": "https://localhost:8080/",
     "height": 176
    },
    "colab_type": "code",
    "id": "f1GTvVzE6Wzo",
    "outputId": "c8740bf9-3ed0-4b53-e163-0e7acd7ed926"
   },
   "outputs": [
    {
     "name": "stdout",
     "output_type": "stream",
     "text": [
      "Downloading data from https://storage.googleapis.com/tensorflow/tf-keras-datasets/train-labels-idx1-ubyte.gz\n",
      "32768/29515 [=================================] - 0s 1us/step\n",
      "Downloading data from https://storage.googleapis.com/tensorflow/tf-keras-datasets/train-images-idx3-ubyte.gz\n",
      "26427392/26421880 [==============================] - 2s 0us/step\n",
      "Downloading data from https://storage.googleapis.com/tensorflow/tf-keras-datasets/t10k-labels-idx1-ubyte.gz\n",
      "8192/5148 [===============================================] - 0s 0us/step\n",
      "Downloading data from https://storage.googleapis.com/tensorflow/tf-keras-datasets/t10k-images-idx3-ubyte.gz\n",
      "4423680/4422102 [==============================] - 0s 0us/step\n"
     ]
    }
   ],
   "source": [
    "from tensorflow.keras.datasets import fashion_mnist\n",
    "\n",
    "(X_train, y_train), (X_test, y_test) = fashion_mnist.load_data()"
   ]
  },
  {
   "cell_type": "code",
   "execution_count": 3,
   "metadata": {
    "colab": {
     "base_uri": "https://localhost:8080/",
     "height": 281
    },
    "colab_type": "code",
    "id": "lMl1AMzo6btD",
    "outputId": "4c3c18b9-47e1-417a-d663-49c61ec3583f"
   },
   "outputs": [
    {
     "data": {
      "image/png": "[encoded data removed]",
      "text/plain": [
       "<Figure size 432x288 with 1 Axes>"
      ]
     },
     "metadata": {
      "needs_background": "light"
     },
     "output_type": "display_data"
    }
   ],
   "source": [
    "import matplotlib.pyplot as plt\n",
    "\n",
    "plt.title(y_train[3])\n",
    "plt.imshow(X_train[3]);"
   ]
  },
  {
   "cell_type": "code",
   "execution_count": 4,
   "metadata": {
    "colab": {},
    "colab_type": "code",
    "id": "7lKoNb426oU9"
   },
   "outputs": [],
   "source": [
    "X_train, X_test = X_train / 255., X_test / 255."
   ]
  },
  {
   "cell_type": "code",
   "execution_count": 5,
   "metadata": {
    "colab": {
     "base_uri": "https://localhost:8080/",
     "height": 34
    },
    "colab_type": "code",
    "id": "54VH_2Id66DI",
    "outputId": "4dbdd57a-753d-44a5-9be2-6ef32c9c67bf"
   },
   "outputs": [
    {
     "data": {
      "text/plain": [
       "784"
      ]
     },
     "execution_count": 5,
     "metadata": {},
     "output_type": "execute_result"
    }
   ],
   "source": [
    "28 * 28  # Same feature size as MNIST"
   ]
  },
  {
   "cell_type": "code",
   "execution_count": 6,
   "metadata": {
    "colab": {
     "base_uri": "https://localhost:8080/",
     "height": 332
    },
    "colab_type": "code",
    "id": "AY1HomhxQHus",
    "outputId": "f82fc317-c7eb-4881-88a5-5af652c4badc"
   },
   "outputs": [
    {
     "name": "stdout",
     "output_type": "stream",
     "text": [
      "Epoch 1/99\n",
      "   1/1875 [..............................] - ETA: 0s - loss: 2.3693 - accuracy: 0.0938WARNING:tensorflow:From /home/dondreojordan/Lambda/Unit4/Sprint2/Sprint2/lib/python3.6/site-packages/tensorflow/python/ops/summary_ops_v2.py:1277: stop (from tensorflow.python.eager.profiler) is deprecated and will be removed after 2020-07-01.\n",
      "Instructions for updating:\n",
      "use `tf.profiler.experimental.stop` instead.\n",
      "WARNING:tensorflow:Callbacks method `on_train_batch_end` is slow compared to the batch time (batch time: 0.0075s vs `on_train_batch_end` time: 0.0155s). Check your callbacks.\n",
      "1875/1875 [==============================] - 7s 4ms/step - loss: 0.4760 - accuracy: 0.8268 - val_loss: 0.4290 - val_accuracy: 0.8407\n",
      "Epoch 2/99\n",
      "1875/1875 [==============================] - 8s 4ms/step - loss: 0.3550 - accuracy: 0.8684 - val_loss: 0.3823 - val_accuracy: 0.8664\n",
      "Epoch 3/99\n",
      "1875/1875 [==============================] - 6s 3ms/step - loss: 0.3209 - accuracy: 0.8813 - val_loss: 0.3533 - val_accuracy: 0.8720\n",
      "Epoch 4/99\n",
      "1875/1875 [==============================] - 6s 3ms/step - loss: 0.2980 - accuracy: 0.8889 - val_loss: 0.3559 - val_accuracy: 0.8723\n",
      "Epoch 5/99\n",
      "1875/1875 [==============================] - 6s 3ms/step - loss: 0.2816 - accuracy: 0.8945 - val_loss: 0.3535 - val_accuracy: 0.8713\n",
      "Epoch 6/99\n",
      "1875/1875 [==============================] - 6s 3ms/step - loss: 0.2682 - accuracy: 0.8991 - val_loss: 0.3659 - val_accuracy: 0.8690\n"
     ]
    },
    {
     "data": {
      "text/plain": [
       "<tensorflow.python.keras.callbacks.History at 0x7f4d1141b7b8>"
      ]
     },
     "execution_count": 6,
     "metadata": {},
     "output_type": "execute_result"
    }
   ],
   "source": [
    "from tensorflow.keras.callbacks import EarlyStopping, TensorBoard\n",
    "from tensorflow.keras.layers import Flatten, Dense\n",
    "from tensorflow.keras.layers import ReLU\n",
    "import tensorflow as tf\n",
    "import os\n",
    "\n",
    "logdir = os.path.join(\"logs\", \"EarlyStopping-Loss\")\n",
    "\n",
    "tensorboard_callback = tf.keras.callbacks.TensorBoard(logdir, histogram_freq=1)\n",
    "stop = EarlyStopping(monitor='val_loss', min_delta=0.01, patience=3)\n",
    "\n",
    "model = tf.keras.Sequential([\n",
    "    Flatten(input_shape=(28,28)),  # Treats as 784x1\n",
    "    Dense(128),\n",
    "    ReLU(negative_slope=.01),\n",
    "    Dense(128),\n",
    "    ReLU(negative_slope=.01),\n",
    "    Dense(128),\n",
    "    ReLU(negative_slope=.01),\n",
    "    Dense(10, activation='softmax')\n",
    "])\n",
    "\n",
    "model.compile(loss='sparse_categorical_crossentropy', optimizer='nadam',\n",
    "              metrics=['accuracy'])\n",
    "\n",
    "model.fit(X_train, y_train, epochs=99, \n",
    "          validation_data=(X_test,y_test),\n",
    "          callbacks=[tensorboard_callback, stop])"
   ]
  },
  {
   "cell_type": "markdown",
   "metadata": {
    "colab_type": "text",
    "id": "Y7ScqKUzQHuv"
   },
   "source": [
    "### Weight Decay\n",
    "\n",
    "```python\n",
    "Dense(64, input_dim=64,\n",
    "            kernel_regularizer=regularizers.l2(0.01),\n",
    "            activity_regularizer=regularizers.l1(0.01)))\n",
    "```"
   ]
  },
  {
   "cell_type": "code",
   "execution_count": 7,
   "metadata": {
    "colab": {
     "base_uri": "https://localhost:8080/",
     "height": 315
    },
    "colab_type": "code",
    "id": "eQuacT-JQHuv",
    "outputId": "0585c005-7dd2-4b78-ee2a-332012df74db"
   },
   "outputs": [
    {
     "name": "stdout",
     "output_type": "stream",
     "text": [
      "Epoch 1/99\n",
      "   2/1875 [..............................] - ETA: 1:19 - loss: 18.3827 - accuracy: 0.1875  WARNING:tensorflow:Callbacks method `on_train_batch_end` is slow compared to the batch time (batch time: 0.0179s vs `on_train_batch_end` time: 0.0658s). Check your callbacks.\n",
      "1875/1875 [==============================] - 34s 18ms/step - loss: 1.3283 - accuracy: 0.7696 - val_loss: 0.7589 - val_accuracy: 0.8033\n",
      "Epoch 2/99\n",
      "1875/1875 [==============================] - 31s 17ms/step - loss: 0.7073 - accuracy: 0.8139 - val_loss: 0.6749 - val_accuracy: 0.8198\n",
      "Epoch 3/99\n",
      "1875/1875 [==============================] - 32s 17ms/step - loss: 0.6497 - accuracy: 0.8272 - val_loss: 0.6389 - val_accuracy: 0.8284\n",
      "Epoch 4/99\n",
      "1875/1875 [==============================] - 32s 17ms/step - loss: 0.6252 - accuracy: 0.8335 - val_loss: 0.6329 - val_accuracy: 0.8276\n",
      "Epoch 5/99\n",
      "1875/1875 [==============================] - 32s 17ms/step - loss: 0.6037 - accuracy: 0.8395 - val_loss: 0.6594 - val_accuracy: 0.8175\n",
      "Epoch 6/99\n",
      "1875/1875 [==============================] - 32s 17ms/step - loss: 0.5921 - accuracy: 0.8412 - val_loss: 0.6092 - val_accuracy: 0.8358\n",
      "Epoch 7/99\n",
      "1875/1875 [==============================] - 32s 17ms/step - loss: 0.5865 - accuracy: 0.8419 - val_loss: 0.6081 - val_accuracy: 0.8267\n",
      "Epoch 8/99\n",
      "1875/1875 [==============================] - 32s 17ms/step - loss: 0.5778 - accuracy: 0.8419 - val_loss: 0.5790 - val_accuracy: 0.8426\n",
      "Epoch 9/99\n",
      "1875/1875 [==============================] - 33s 18ms/step - loss: 0.5763 - accuracy: 0.8426 - val_loss: 0.5937 - val_accuracy: 0.8374\n",
      "Epoch 10/99\n",
      "1875/1875 [==============================] - 32s 17ms/step - loss: 0.5960 - accuracy: 0.8436 - val_loss: 0.5968 - val_accuracy: 0.8298\n",
      "Epoch 11/99\n",
      "1875/1875 [==============================] - 32s 17ms/step - loss: 0.5573 - accuracy: 0.8435 - val_loss: 0.6101 - val_accuracy: 0.8263\n"
     ]
    },
    {
     "data": {
      "text/plain": [
       "<tensorflow.python.keras.callbacks.History at 0x7f4cec3a0fd0>"
      ]
     },
     "execution_count": 7,
     "metadata": {},
     "output_type": "execute_result"
    }
   ],
   "source": [
    "from tensorflow.keras import regularizers\n",
    "\n",
    "logdir = os.path.join(\"logs\", \"EarlyStopping+L2_WeightDecay\")\n",
    "tensorboard_callback = tf.keras.callbacks.TensorBoard(logdir, histogram_freq=1)\n",
    "\n",
    "stop = EarlyStopping(monitor='val_loss', min_delta=0.01, patience=3)\n",
    "\n",
    "model = tf.keras.Sequential([\n",
    "    Flatten(input_shape=(28,28)),\n",
    "    Dense(512, kernel_regularizer=regularizers.l2(0.01)),\n",
    "    ReLU(negative_slope=.01),\n",
    "    Dense(512, kernel_regularizer=regularizers.l2(0.01)),\n",
    "    ReLU(negative_slope=.01),\n",
    "    Dense(512, kernel_regularizer=regularizers.l2(0.01)),\n",
    "    ReLU(negative_slope=.01),\n",
    "    Dense(10, activation='softmax')\n",
    "])\n",
    "\n",
    "model.compile(loss='sparse_categorical_crossentropy', optimizer='nadam',\n",
    "              metrics=['accuracy'])\n",
    "\n",
    "model.fit(X_train, y_train, epochs=99, \n",
    "          validation_data=(X_test,y_test),\n",
    "          callbacks=[tensorboard_callback, stop])"
   ]
  },
  {
   "cell_type": "code",
   "execution_count": 8,
   "metadata": {
    "colab": {
     "base_uri": "https://localhost:8080/",
     "height": 434
    },
    "colab_type": "code",
    "id": "CWgfqejzAu8y",
    "outputId": "9072ec5a-2410-4619-9d95-e127dc0959b1"
   },
   "outputs": [
    {
     "name": "stdout",
     "output_type": "stream",
     "text": [
      "Model: \"sequential_1\"\n",
      "_________________________________________________________________\n",
      "Layer (type)                 Output Shape              Param #   \n",
      "=================================================================\n",
      "flatten_1 (Flatten)          (None, 784)               0         \n",
      "_________________________________________________________________\n",
      "dense_4 (Dense)              (None, 512)               401920    \n",
      "_________________________________________________________________\n",
      "re_lu_3 (ReLU)               (None, 512)               0         \n",
      "_________________________________________________________________\n",
      "dense_5 (Dense)              (None, 512)               262656    \n",
      "_________________________________________________________________\n",
      "re_lu_4 (ReLU)               (None, 512)               0         \n",
      "_________________________________________________________________\n",
      "dense_6 (Dense)              (None, 512)               262656    \n",
      "_________________________________________________________________\n",
      "re_lu_5 (ReLU)               (None, 512)               0         \n",
      "_________________________________________________________________\n",
      "dense_7 (Dense)              (None, 10)                5130      \n",
      "=================================================================\n",
      "Total params: 932,362\n",
      "Trainable params: 932,362\n",
      "Non-trainable params: 0\n",
      "_________________________________________________________________\n"
     ]
    }
   ],
   "source": [
    "model.summary()"
   ]
  },
  {
   "cell_type": "code",
   "execution_count": 9,
   "metadata": {
    "colab": {
     "base_uri": "https://localhost:8080/",
     "height": 822
    },
    "colab_type": "code",
    "id": "xO1LvbaPA1jB",
    "outputId": "3bfbb247-44f0-4cf3-f888-40dc8b49960f"
   },
   "outputs": [
    {
     "data": {
      "text/html": [
       "\n",
       "      <iframe id=\"tensorboard-frame-38d68dbbffaf2241\" width=\"100%\" height=\"800\" frameborder=\"0\">\n",
       "      </iframe>\n",
       "      <script>\n",
       "        (function() {\n",
       "          const frame = document.getElementById(\"tensorboard-frame-38d68dbbffaf2241\");\n",
       "          const url = new URL(\"/\", window.location);\n",
       "          const port = 6006;\n",
       "          if (port) {\n",
       "            url.port = port;\n",
       "          }\n",
       "          frame.src = url;\n",
       "        })();\n",
       "      </script>\n",
       "    "
      ],
      "text/plain": [
       "<IPython.core.display.HTML object>"
      ]
     },
     "metadata": {},
     "output_type": "display_data"
    }
   ],
   "source": [
    "%tensorboard --logdir logs"
   ]
  },
  {
   "cell_type": "markdown",
   "metadata": {
    "colab_type": "text",
    "id": "aCJ1aUIfQHuy"
   },
   "source": [
    "### Weight Constraint\n",
    "\n",
    "```python\n",
    "tf.keras.constraints.MaxNorm(\n",
    "    max_value=2, axis=0\n",
    ")\n",
    "```"
   ]
  },
  {
   "cell_type": "code",
   "execution_count": 10,
   "metadata": {
    "colab": {
     "base_uri": "https://localhost:8080/",
     "height": 384
    },
    "colab_type": "code",
    "id": "gbXBxr1QQHuy",
    "outputId": "edb54eb4-b3e6-4777-c366-2f20f25ae0bf"
   },
   "outputs": [
    {
     "name": "stdout",
     "output_type": "stream",
     "text": [
      "Epoch 1/99\n",
      "   2/1875 [..............................] - ETA: 1:29 - loss: 2.1976 - accuracy: 0.2188WARNING:tensorflow:Callbacks method `on_train_batch_end` is slow compared to the batch time (batch time: 0.0208s vs `on_train_batch_end` time: 0.0749s). Check your callbacks.\n",
      "1875/1875 [==============================] - 32s 17ms/step - loss: 0.4664 - accuracy: 0.8290 - val_loss: 0.4399 - val_accuracy: 0.8528\n",
      "Epoch 2/99\n",
      "1875/1875 [==============================] - 32s 17ms/step - loss: 0.3531 - accuracy: 0.8697 - val_loss: 0.3622 - val_accuracy: 0.8716\n",
      "Epoch 3/99\n",
      "1875/1875 [==============================] - 36s 19ms/step - loss: 0.3228 - accuracy: 0.8801 - val_loss: 0.3505 - val_accuracy: 0.8734\n",
      "Epoch 4/99\n",
      "1875/1875 [==============================] - 32s 17ms/step - loss: 0.3073 - accuracy: 0.8852 - val_loss: 0.3608 - val_accuracy: 0.8666\n",
      "Epoch 5/99\n",
      "1875/1875 [==============================] - 36s 19ms/step - loss: 0.2969 - accuracy: 0.8885 - val_loss: 0.3676 - val_accuracy: 0.8646\n",
      "Epoch 6/99\n",
      "1875/1875 [==============================] - 36s 19ms/step - loss: 0.2925 - accuracy: 0.8913 - val_loss: 0.3517 - val_accuracy: 0.8722\n"
     ]
    },
    {
     "data": {
      "text/plain": [
       "<tensorflow.python.keras.callbacks.History at 0x7f4cec11b748>"
      ]
     },
     "execution_count": 10,
     "metadata": {},
     "output_type": "execute_result"
    }
   ],
   "source": [
    "from tensorflow.keras.constraints import MaxNorm\n",
    "\n",
    "wc = MaxNorm(max_value=2)\n",
    "\n",
    "logdir = os.path.join(\"logs\", \"EarlyStopping+WeightConstraint\")\n",
    "\n",
    "tensorboard_callback = tf.keras.callbacks.TensorBoard(logdir, histogram_freq=1)\n",
    "stop = EarlyStopping(monitor='val_loss', min_delta=0.01, patience=3)\n",
    "\n",
    "model = tf.keras.Sequential([\n",
    "    Flatten(input_shape=(28,28)),\n",
    "    Dense(512, kernel_constraint=wc),\n",
    "    ReLU(negative_slope=.01),\n",
    "    Dense(512, kernel_constraint=wc),\n",
    "    ReLU(negative_slope=.01),\n",
    "    Dense(512, kernel_constraint=wc),\n",
    "    ReLU(negative_slope=.01),\n",
    "    Dense(10, activation='softmax')\n",
    "])\n",
    "\n",
    "model.compile(loss='sparse_categorical_crossentropy', optimizer='nadam', metrics=['accuracy'])\n",
    "\n",
    "model.fit(X_train, y_train, epochs=99, \n",
    "          validation_data=(X_test,y_test),\n",
    "          callbacks=[tensorboard_callback, stop])"
   ]
  },
  {
   "cell_type": "markdown",
   "metadata": {
    "colab_type": "text",
    "id": "9-xMnXMsQHu0"
   },
   "source": [
    "### Dropout"
   ]
  },
  {
   "cell_type": "code",
   "execution_count": 11,
   "metadata": {
    "colab": {
     "base_uri": "https://localhost:8080/",
     "height": 384
    },
    "colab_type": "code",
    "id": "MCRL8SmgQHu0",
    "outputId": "ba44f4f3-5df9-4f5d-e827-688fc2e5f497"
   },
   "outputs": [
    {
     "name": "stdout",
     "output_type": "stream",
     "text": [
      "Epoch 1/99\n",
      "   2/1875 [..............................] - ETA: 1:31 - loss: 2.3760 - accuracy: 0.0938WARNING:tensorflow:Callbacks method `on_train_batch_end` is slow compared to the batch time (batch time: 0.0135s vs `on_train_batch_end` time: 0.0832s). Check your callbacks.\n",
      "1875/1875 [==============================] - 13s 7ms/step - loss: 0.5321 - accuracy: 0.8081 - val_loss: 0.4219 - val_accuracy: 0.8430\n",
      "Epoch 2/99\n",
      "1875/1875 [==============================] - 12s 6ms/step - loss: 0.4050 - accuracy: 0.8526 - val_loss: 0.3996 - val_accuracy: 0.8558\n",
      "Epoch 3/99\n",
      "1875/1875 [==============================] - 12s 7ms/step - loss: 0.3771 - accuracy: 0.8633 - val_loss: 0.3801 - val_accuracy: 0.8650\n",
      "Epoch 4/99\n",
      "1875/1875 [==============================] - 13s 7ms/step - loss: 0.3671 - accuracy: 0.8661 - val_loss: 0.3736 - val_accuracy: 0.8678\n",
      "Epoch 5/99\n",
      "1875/1875 [==============================] - 13s 7ms/step - loss: 0.3607 - accuracy: 0.8677 - val_loss: 0.3562 - val_accuracy: 0.8704\n",
      "Epoch 6/99\n",
      "1875/1875 [==============================] - 14s 7ms/step - loss: 0.3544 - accuracy: 0.8698 - val_loss: 0.3524 - val_accuracy: 0.8688\n",
      "Epoch 7/99\n",
      "1875/1875 [==============================] - 13s 7ms/step - loss: 0.3510 - accuracy: 0.8703 - val_loss: 0.3516 - val_accuracy: 0.8736\n",
      "Epoch 8/99\n",
      "1875/1875 [==============================] - 13s 7ms/step - loss: 0.3476 - accuracy: 0.8721 - val_loss: 0.3694 - val_accuracy: 0.8644\n"
     ]
    },
    {
     "data": {
      "text/plain": [
       "<tensorflow.python.keras.callbacks.History at 0x7f4ce56b4fd0>"
      ]
     },
     "execution_count": 11,
     "metadata": {},
     "output_type": "execute_result"
    }
   ],
   "source": [
    "from tensorflow.keras.layers import Dropout\n",
    "\n",
    "from tensorflow.keras.constraints import MaxNorm\n",
    "\n",
    "wc = MaxNorm(max_value=2)\n",
    "\n",
    "logdir = os.path.join(\"logs\", \"EarlyStopping+WeightConstraint+Dropout\")\n",
    "\n",
    "tensorboard_callback = tf.keras.callbacks.TensorBoard(logdir, histogram_freq=1)\n",
    "stop = EarlyStopping(monitor='val_loss', min_delta=0.01, patience=3)\n",
    "\n",
    "model = tf.keras.Sequential([\n",
    "    Flatten(input_shape=(28,28)),\n",
    "    Dense(256, kernel_constraint=wc),\n",
    "    ReLU(negative_slope=.01),\n",
    "    Dropout(.2),\n",
    "    Dense(256, kernel_constraint=wc),\n",
    "    ReLU(negative_slope=.01),\n",
    "    Dropout(.2),\n",
    "    Dense(256, kernel_constraint=wc),\n",
    "    ReLU(negative_slope=.01),\n",
    "    Dropout(.2),\n",
    "    Dense(10, activation='softmax')\n",
    "])\n",
    "\n",
    "model.compile(loss='sparse_categorical_crossentropy', optimizer='nadam', metrics=['accuracy'])\n",
    "\n",
    "model.fit(X_train, y_train, epochs=99, \n",
    "          validation_data=(X_test,y_test),\n",
    "          callbacks=[tensorboard_callback, stop])"
   ]
  },
  {
   "cell_type": "code",
   "execution_count": 12,
   "metadata": {
    "colab": {},
    "colab_type": "code",
    "id": "RFAkmZbVQHu2"
   },
   "outputs": [
    {
     "data": {
      "text/plain": [
       "Reusing TensorBoard on port 6006 (pid 8386), started 0:05:11 ago. (Use '!kill 8386' to kill it.)"
      ]
     },
     "metadata": {},
     "output_type": "display_data"
    },
    {
     "data": {
      "text/html": [
       "\n",
       "      <iframe id=\"tensorboard-frame-f0f2c00b21f64a85\" width=\"100%\" height=\"800\" frameborder=\"0\">\n",
       "      </iframe>\n",
       "      <script>\n",
       "        (function() {\n",
       "          const frame = document.getElementById(\"tensorboard-frame-f0f2c00b21f64a85\");\n",
       "          const url = new URL(\"/\", window.location);\n",
       "          const port = 6006;\n",
       "          if (port) {\n",
       "            url.port = port;\n",
       "          }\n",
       "          frame.src = url;\n",
       "        })();\n",
       "      </script>\n",
       "    "
      ],
      "text/plain": [
       "<IPython.core.display.HTML object>"
      ]
     },
     "metadata": {},
     "output_type": "display_data"
    }
   ],
   "source": [
    "%tensorboard --logdir logs"
   ]
  },
  {
   "cell_type": "markdown",
   "metadata": {
    "colab_type": "text",
    "id": "HbV6zsdQQHu4"
   },
   "source": [
    "## Challenge\n",
    "\n",
    "You will apply regularization strategies inside your neural network today, as you try to avoid overfitting it. \n",
    "\n",
    "---"
   ]
  },
  {
   "cell_type": "markdown",
   "metadata": {
    "colab_type": "text",
    "id": "3MXbzdBdURod"
   },
   "source": [
    "# Deploy (Learn)"
   ]
  },
  {
   "cell_type": "markdown",
   "metadata": {
    "colab_type": "text",
    "id": "11LJtU9MUVD5"
   },
   "source": [
    "## Overview\n",
    "\n",
    "You've built a dope image classification model, but it's just sitting your Jupyter Notebook. What now? Well you deploy to some down stream application. TensorFlow supports three ways of deploying it's models: \n",
    "\n",
    "- In-Browser with TensorFlow.js\n",
    "- API with TensorFlow Serving (TFX) or another Framework\n",
    "- On-Device with TensorFlow Lite\n",
    "\n",
    "You are already familiar with deploying a model as an API from Unit 3, so we will focus on deploying a model in browser. Both methods rely on the same core idea: save your weights and architecture information, load those parameters into application, and perform inference. \n",
    "\n"
   ]
  },
  {
   "cell_type": "markdown",
   "metadata": {
    "colab_type": "text",
    "id": "IHca-4H2UU8p"
   },
   "source": [
    "## Follow Along"
   ]
  },
  {
   "cell_type": "markdown",
   "metadata": {
    "colab_type": "text",
    "id": "LgqQfelzZTL1"
   },
   "source": [
    "### Train Your Model"
   ]
  },
  {
   "cell_type": "code",
   "execution_count": 13,
   "metadata": {
    "colab": {
     "base_uri": "https://localhost:8080/",
     "height": 173
    },
    "colab_type": "code",
    "id": "Neds_0D2ZR9g",
    "outputId": "8ba2a1b0-7fe3-410b-d092-ca08fa40237a"
   },
   "outputs": [
    {
     "name": "stdout",
     "output_type": "stream",
     "text": [
      "Epoch 1/2\n",
      "\n",
      "Epoch 00001: saving model to weights_best.h5\n",
      "1875/1875 - 6s - loss: 0.4714 - accuracy: 0.8297 - val_loss: 0.4206 - val_accuracy: 0.8460\n",
      "Epoch 2/2\n",
      "\n",
      "Epoch 00002: saving model to weights_best.h5\n",
      "1875/1875 - 6s - loss: 0.3504 - accuracy: 0.8709 - val_loss: 0.3816 - val_accuracy: 0.8606\n"
     ]
    },
    {
     "data": {
      "text/plain": [
       "<tensorflow.python.keras.callbacks.History at 0x7f4ce53d7e48>"
      ]
     },
     "execution_count": 13,
     "metadata": {},
     "output_type": "execute_result"
    }
   ],
   "source": [
    "import tensorflow as tf\n",
    "\n",
    "cpoint = tf.keras.callbacks.ModelCheckpoint(\"weights_best.h5\",\n",
    "                                            verbose=1, \n",
    "                                            save_weights_only=True)\n",
    "\n",
    "def create_model():\n",
    "  model = tf.keras.Sequential([\n",
    "      Flatten(input_shape=(28,28)),\n",
    "      Dense(128),\n",
    "      ReLU(negative_slope=.01),\n",
    "      Dense(128),\n",
    "      ReLU(negative_slope=.01),\n",
    "      Dense(128),\n",
    "      ReLU(negative_slope=.01),\n",
    "      Dense(10, activation='softmax')\n",
    "  ])\n",
    "\n",
    "  model.compile(loss='sparse_categorical_crossentropy', optimizer='nadam',\n",
    "                metrics=['accuracy'])\n",
    "\n",
    "  return model\n",
    "\n",
    "model = create_model()\n",
    "\n",
    "model.fit(X_train, y_train, epochs=2, \n",
    "          validation_data=(X_test,y_test),\n",
    "          verbose=2,\n",
    "          callbacks=[cpoint])"
   ]
  },
  {
   "cell_type": "code",
   "execution_count": 14,
   "metadata": {
    "colab": {
     "base_uri": "https://localhost:8080/",
     "height": 52
    },
    "colab_type": "code",
    "id": "50dK2VnuHMZm",
    "outputId": "42c5c5d2-1002-40b8-8b20-6548d91a0744"
   },
   "outputs": [
    {
     "name": "stdout",
     "output_type": "stream",
     "text": [
      "313/313 [==============================] - 1s 2ms/step - loss: 0.3816 - accuracy: 0.8606\n"
     ]
    },
    {
     "data": {
      "text/plain": [
       "[0.38160422444343567, 0.8605999946594238]"
      ]
     },
     "execution_count": 14,
     "metadata": {},
     "output_type": "execute_result"
    }
   ],
   "source": [
    "model.evaluate(X_test, y_test)"
   ]
  },
  {
   "cell_type": "markdown",
   "metadata": {
    "colab_type": "text",
    "id": "SVSTU7UJZYI1"
   },
   "source": [
    "### Load Exported Model"
   ]
  },
  {
   "cell_type": "code",
   "execution_count": 15,
   "metadata": {
    "colab": {
     "base_uri": "https://localhost:8080/",
     "height": 434
    },
    "colab_type": "code",
    "id": "IfePv6zXHQoq",
    "outputId": "d135edab-7f32-441f-efd2-4809f971687e"
   },
   "outputs": [
    {
     "name": "stdout",
     "output_type": "stream",
     "text": [
      "Model: \"sequential_5\"\n",
      "_________________________________________________________________\n",
      "Layer (type)                 Output Shape              Param #   \n",
      "=================================================================\n",
      "flatten_5 (Flatten)          (None, 784)               0         \n",
      "_________________________________________________________________\n",
      "dense_20 (Dense)             (None, 128)               100480    \n",
      "_________________________________________________________________\n",
      "re_lu_15 (ReLU)              (None, 128)               0         \n",
      "_________________________________________________________________\n",
      "dense_21 (Dense)             (None, 128)               16512     \n",
      "_________________________________________________________________\n",
      "re_lu_16 (ReLU)              (None, 128)               0         \n",
      "_________________________________________________________________\n",
      "dense_22 (Dense)             (None, 128)               16512     \n",
      "_________________________________________________________________\n",
      "re_lu_17 (ReLU)              (None, 128)               0         \n",
      "_________________________________________________________________\n",
      "dense_23 (Dense)             (None, 10)                1290      \n",
      "=================================================================\n",
      "Total params: 134,794\n",
      "Trainable params: 134,794\n",
      "Non-trainable params: 0\n",
      "_________________________________________________________________\n"
     ]
    }
   ],
   "source": [
    "m = create_model()  # Start with same architecture\n",
    "m.load_weights('./weights_best.h5')  # Load instead of train\n",
    "m.summary()"
   ]
  },
  {
   "cell_type": "code",
   "execution_count": 16,
   "metadata": {
    "colab": {
     "base_uri": "https://localhost:8080/",
     "height": 52
    },
    "colab_type": "code",
    "id": "os-eSxMbHb3s",
    "outputId": "e1418c04-737e-4de6-a9e6-16faad1479ae"
   },
   "outputs": [
    {
     "name": "stdout",
     "output_type": "stream",
     "text": [
      "313/313 [==============================] - 1s 2ms/step - loss: 0.3816 - accuracy: 0.8606\n"
     ]
    },
    {
     "data": {
      "text/plain": [
       "[0.38160422444343567, 0.8605999946594238]"
      ]
     },
     "execution_count": 16,
     "metadata": {},
     "output_type": "execute_result"
    }
   ],
   "source": [
    "m.evaluate(X_test, y_test)"
   ]
  },
  {
   "cell_type": "code",
   "execution_count": 17,
   "metadata": {
    "colab": {
     "base_uri": "https://localhost:8080/",
     "height": 332
    },
    "colab_type": "code",
    "id": "kI8KHA87UUU1",
    "outputId": "13a47563-4f39-40ef-9b61-778842a04826"
   },
   "outputs": [
    {
     "name": "stdout",
     "output_type": "stream",
     "text": [
      "Epoch 1/5\n",
      "1875/1875 [==============================] - 6s 3ms/step - loss: 0.4710 - accuracy: 0.8295\n",
      "Epoch 2/5\n",
      "1875/1875 [==============================] - 6s 3ms/step - loss: 0.3535 - accuracy: 0.8687\n",
      "Epoch 3/5\n",
      "1875/1875 [==============================] - 7s 4ms/step - loss: 0.3179 - accuracy: 0.8827\n",
      "Epoch 4/5\n",
      "1875/1875 [==============================] - 6s 3ms/step - loss: 0.2974 - accuracy: 0.8895\n",
      "Epoch 5/5\n",
      "1875/1875 [==============================] - 6s 3ms/step - loss: 0.2814 - accuracy: 0.8949\n",
      "WARNING:tensorflow:From /home/dondreojordan/Lambda/Unit4/Sprint2/Sprint2/lib/python3.6/site-packages/tensorflow/python/training/tracking/tracking.py:111: Model.state_updates (from tensorflow.python.keras.engine.training) is deprecated and will be removed in a future version.\n",
      "Instructions for updating:\n",
      "This property should not be used in TensorFlow 2.0, as updates are applied automatically.\n",
      "WARNING:tensorflow:From /home/dondreojordan/Lambda/Unit4/Sprint2/Sprint2/lib/python3.6/site-packages/tensorflow/python/training/tracking/tracking.py:111: Layer.updates (from tensorflow.python.keras.engine.base_layer) is deprecated and will be removed in a future version.\n",
      "Instructions for updating:\n",
      "This property should not be used in TensorFlow 2.0, as updates are applied automatically.\n",
      "INFO:tensorflow:Assets written to: saved_model/my_model/assets\n"
     ]
    }
   ],
   "source": [
    "# Save entire model\n",
    "# i.e. both weights and architecture\n",
    "# Create and train a new model instance.\n",
    "model = create_model()\n",
    "model.fit(X_train, y_train, epochs=5)\n",
    "\n",
    "# Save the entire model as a SavedModel.\n",
    "!mkdir -p saved_model\n",
    "model.save('saved_model/my_model') "
   ]
  },
  {
   "cell_type": "code",
   "execution_count": 18,
   "metadata": {
    "colab": {
     "base_uri": "https://localhost:8080/",
     "height": 52
    },
    "colab_type": "code",
    "id": "bZrXFdjDIMa_",
    "outputId": "5ea4092a-78ca-4e1c-9cca-7be2932b2cbb"
   },
   "outputs": [
    {
     "name": "stdout",
     "output_type": "stream",
     "text": [
      "313/313 [==============================] - 0s 1ms/step - loss: 0.3412 - accuracy: 0.8744\n"
     ]
    },
    {
     "data": {
      "text/plain": [
       "[0.3411698043346405, 0.8744000196456909]"
      ]
     },
     "execution_count": 18,
     "metadata": {},
     "output_type": "execute_result"
    }
   ],
   "source": [
    "model.evaluate(X_test, y_test)"
   ]
  },
  {
   "cell_type": "code",
   "execution_count": 19,
   "metadata": {
    "colab": {
     "base_uri": "https://localhost:8080/",
     "height": 434
    },
    "colab_type": "code",
    "id": "aTgNxYlrH2N9",
    "outputId": "674f4c48-1bc1-4981-844f-550ad5971ce3"
   },
   "outputs": [
    {
     "name": "stdout",
     "output_type": "stream",
     "text": [
      "Model: \"sequential_6\"\n",
      "_________________________________________________________________\n",
      "Layer (type)                 Output Shape              Param #   \n",
      "=================================================================\n",
      "flatten_6 (Flatten)          (None, 784)               0         \n",
      "_________________________________________________________________\n",
      "dense_24 (Dense)             (None, 128)               100480    \n",
      "_________________________________________________________________\n",
      "re_lu_18 (ReLU)              (None, 128)               0         \n",
      "_________________________________________________________________\n",
      "dense_25 (Dense)             (None, 128)               16512     \n",
      "_________________________________________________________________\n",
      "re_lu_19 (ReLU)              (None, 128)               0         \n",
      "_________________________________________________________________\n",
      "dense_26 (Dense)             (None, 128)               16512     \n",
      "_________________________________________________________________\n",
      "re_lu_20 (ReLU)              (None, 128)               0         \n",
      "_________________________________________________________________\n",
      "dense_27 (Dense)             (None, 10)                1290      \n",
      "=================================================================\n",
      "Total params: 134,794\n",
      "Trainable params: 134,794\n",
      "Non-trainable params: 0\n",
      "_________________________________________________________________\n"
     ]
    }
   ],
   "source": [
    "# Load it back fresh, including weights and architecture\n",
    "\n",
    "new_model = tf.keras.models.load_model('saved_model/my_model')\n",
    "new_model.summary()"
   ]
  },
  {
   "cell_type": "code",
   "execution_count": 20,
   "metadata": {
    "colab": {
     "base_uri": "https://localhost:8080/",
     "height": 156
    },
    "colab_type": "code",
    "id": "HaV3wafoItlT",
    "outputId": "82e4b0ce-0a23-472b-853c-2a980c18be02"
   },
   "outputs": [
    {
     "name": "stdout",
     "output_type": "stream",
     "text": [
      "total 25M\r\n",
      "drwxr-xr-x 5 dondreojordan dondreojordan 4.0K Sep 10 11:37 .\r\n",
      "drwxr-xr-x 7 dondreojordan dondreojordan 4.0K Sep  8 08:14 ..\r\n",
      "drwxr-xr-x 2 dondreojordan dondreojordan 4.0K Sep 10 11:06 .ipynb_checkpoints\r\n",
      "drwxr-xr-x 6 dondreojordan dondreojordan 4.0K Sep 10 11:34 logs\r\n",
      "-rw-rw-r-- 1 dondreojordan dondreojordan  46K Sep 10 11:37 LS_DS17_424_Deploy_Lecture_w_code.ipynb\r\n",
      "-rw-r--r-- 1 dondreojordan dondreojordan 3.6K Sep  8 08:14 LS_DS_434_Deploy_Assignment.ipynb\r\n",
      "-rw-r--r-- 1 dondreojordan dondreojordan  12K Sep  8 08:14 LS_DS_434_Deploy_Lecture.ipynb\r\n",
      "-rw-r--r-- 1 dondreojordan dondreojordan  25M Sep  8 08:14 quickdraw10.npz\r\n",
      "drwxr-xr-x 3 dondreojordan dondreojordan 4.0K Sep 10 11:37 saved_model\r\n",
      "-rw-r--r-- 1 dondreojordan dondreojordan 547K Sep 10 11:36 weights_best.h5\r\n"
     ]
    }
   ],
   "source": [
    "!ls -alh  # Half a meg for a model"
   ]
  },
  {
   "cell_type": "code",
   "execution_count": 21,
   "metadata": {
    "colab": {},
    "colab_type": "code",
    "id": "DFTk1TWNKuKf"
   },
   "outputs": [],
   "source": [
    "# One way to reduce size - reduce architecture! (# of layers, neurons)"
   ]
  },
  {
   "cell_type": "code",
   "execution_count": 22,
   "metadata": {
    "colab": {
     "base_uri": "https://localhost:8080/",
     "height": 34
    },
    "colab_type": "code",
    "id": "8OMhZb7zKFoL",
    "outputId": "f0481a28-b88f-4500-bb9c-8af6b688cc90"
   },
   "outputs": [
    {
     "data": {
      "text/plain": [
       "3.141592653589793"
      ]
     },
     "execution_count": 22,
     "metadata": {},
     "output_type": "execute_result"
    }
   ],
   "source": [
    "float(3.1415926535897932384626)  # It loses some numbers!"
   ]
  },
  {
   "cell_type": "code",
   "execution_count": 23,
   "metadata": {
    "colab": {
     "base_uri": "https://localhost:8080/",
     "height": 34
    },
    "colab_type": "code",
    "id": "dkn9dRYHKWzs",
    "outputId": "ba3d7fa4-b90b-427f-e187-8012bafbc30d"
   },
   "outputs": [
    {
     "data": {
      "text/plain": [
       "3.14159"
      ]
     },
     "execution_count": 23,
     "metadata": {},
     "output_type": "execute_result"
    }
   ],
   "source": [
    "# Floating point numbers are stored at a certain precision\n",
    "# in number of bits - e.g. 16, 32, etc.\n",
    "# Above that precision, numbers are rounded off\n",
    "\n",
    "# When you train, you want full precision! Training is sensitive...\n",
    "# But at the very end, it may be okay to reduce\n",
    "\n",
    "# Another way to reduce size - go from e.g. 32 bit numbers\n",
    "# to 16 or 8 bit numbers\n",
    "# Basically truncate/round numbers\n",
    "float(3.14159)"
   ]
  },
  {
   "cell_type": "code",
   "execution_count": 24,
   "metadata": {
    "colab": {},
    "colab_type": "code",
    "id": "CtoVzoMOLC5U"
   },
   "outputs": [],
   "source": [
    "# Keep same number of parameters, but less info/detail per parameter"
   ]
  },
  {
   "cell_type": "markdown",
   "metadata": {
    "colab_type": "text",
    "id": "d6mAg8tpZdzd"
   },
   "source": [
    "### Move Weights to Web Application\n",
    "\n",
    "Not all models are small enough to work well in-browser. Many neural networks are deploy as micro-service APIs. Micro-service APIs are the architecture you studied during Unit 3. "
   ]
  },
  {
   "cell_type": "code",
   "execution_count": 25,
   "metadata": {
    "colab": {},
    "colab_type": "code",
    "id": "0Iz_yr_7ZmGc"
   },
   "outputs": [],
   "source": [
    "# Stretch - https://www.tensorflow.org/js"
   ]
  },
  {
   "cell_type": "markdown",
   "metadata": {
    "colab_type": "text",
    "id": "9i7OMOhzc6WT"
   },
   "source": [
    "## Challenge\n",
    "\n",
    "You will be expected to be able to export your model weights and architecutre on the assignment."
   ]
  },
  {
   "cell_type": "markdown",
   "metadata": {
    "colab_type": "text",
    "id": "rXnXxPCZiAb2"
   },
   "source": [
    "# Custom Callbacks (Learn)"
   ]
  },
  {
   "cell_type": "markdown",
   "metadata": {
    "colab_type": "text",
    "id": "z6vO6xbkiFGb"
   },
   "source": [
    "## Overview\n",
    "\n",
    "Custom callbacks all you to access data at any point during the training: on batch end, on epoch end, on epoch start, on batch start. Our use case today is a simple one. Let's stop training once we reach a benchmark accuracy."
   ]
  },
  {
   "cell_type": "markdown",
   "metadata": {
    "colab_type": "text",
    "id": "lCocRF5CiYG_"
   },
   "source": [
    "## Follow Along"
   ]
  },
  {
   "cell_type": "code",
   "execution_count": null,
   "metadata": {
    "colab": {},
    "colab_type": "code",
    "id": "gmtMJBBriD2Q"
   },
   "outputs": [],
   "source": []
  },
  {
   "cell_type": "markdown",
   "metadata": {
    "colab_type": "text",
    "id": "bOisQxYlibOi"
   },
   "source": [
    "## Challenge\n",
    "\n",
    "Experiment with improving our custom callback function. "
   ]
  }
 ],
 "metadata": {
  "colab": {
   "collapsed_sections": [],
   "name": "LS_DS17_424_Deploy_Lecture.ipynb",
   "provenance": []
  },
  "kernelspec": {
   "display_name": "Python 3",
   "language": "python",
   "name": "python3"
  },
  "latex_envs": {
   "LaTeX_envs_menu_present": true,
   "autoclose": true,
   "autocomplete": true,
   "bibliofile": "biblio.bib",
   "cite_by": "apalike",
   "current_citInitial": 1,
   "eqLabelWithNumbers": true,
   "eqNumInitial": 1,
   "hotkeys": {
    "equation": "Ctrl-E",
    "itemize": "Ctrl-I"
   },
   "labels_anchors": false,
   "latex_user_defs": false,
   "report_style_numbering": false,
   "user_envs_cfg": false
  },
  "toc-autonumbering": false,
  "toc-showmarkdowntxt": false
 },
 "nbformat": 4,
 "nbformat_minor": 1
}
