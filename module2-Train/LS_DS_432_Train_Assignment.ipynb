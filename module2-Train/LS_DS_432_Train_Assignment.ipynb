{
 "cells": [
  {
   "cell_type": "markdown",
   "metadata": {
    "colab_type": "text",
    "id": "NGGrt9EYlCqY"
   },
   "source": [
    "<img align=\"left\" src=\"https://lever-client-logos.s3.amazonaws.com/864372b1-534c-480e-acd5-9711f850815c-1524247202159.png\" width=200>\n",
    "<br></br>\n",
    "<br></br>\n",
    "\n",
    "# Train Practice\n",
    "\n",
    "## *Data Science Unit 4 Sprint 2 Assignment 2*\n",
    "\n",
    "Continue to use TensorFlow Keras & a sample of the [Quickdraw dataset](https://github.com/googlecreativelab/quickdraw-dataset) to build a sketch classification model. The dataset has been sampled to only 10 classes and 10000 observations per class. Please build a baseline classification model then run a few experiments with different optimizers and learning rates. \n",
    "\n",
    "*Don't forgot to switch to GPU on Colab!*"
   ]
  },
  {
   "cell_type": "markdown",
   "metadata": {
    "colab_type": "text",
    "id": "ptJ2b3wk62Ud"
   },
   "source": [
    "### Write a function to load your data\n",
    "\n",
    "Wrap yesterday's preprocessing steps into a function that returns four items:\n",
    "* X_train\n",
    "* y_train\n",
    "* X_test\n",
    "* y_test\n",
    "\n",
    "Your function should accept a `path` to the data as a argument."
   ]
  },
  {
   "cell_type": "code",
   "execution_count": null,
   "metadata": {
    "colab": {},
    "colab_type": "code",
    "id": "64oc_hkRQ4tp"
   },
   "outputs": [],
   "source": [
    "import numpy as np"
   ]
  },
  {
   "cell_type": "code",
   "execution_count": null,
   "metadata": {
    "colab": {},
    "colab_type": "code",
    "id": "XkFUkVH9REdP"
   },
   "outputs": [],
   "source": [
    "# # # What is in the compressed file?\n",
    "# def load_quickdraw10(path):\n",
    "\n",
    "#     data = np.load(path, allow_pickle=True)\n",
    "#     lst = data.files\n",
    "#     for item in lst:\n",
    "#       print(item)\n",
    "#       print(data[item])\n",
    "    \n",
    "#     return data"
   ]
  },
  {
   "cell_type": "code",
   "execution_count": null,
   "metadata": {
    "colab": {},
    "colab_type": "code",
    "id": "OX1GNLXFM2xt"
   },
   "outputs": [],
   "source": [
    "# Should match with this\n",
    "# load = load_quickdraw10('quickdraw10.npz')"
   ]
  },
  {
   "cell_type": "code",
   "execution_count": null,
   "metadata": {
    "colab": {},
    "colab_type": "code",
    "id": "vUQULU7vUVCc"
   },
   "outputs": [],
   "source": [
    "# load['arr_0']"
   ]
  },
  {
   "cell_type": "markdown",
   "metadata": {
    "colab_type": "text",
    "id": "bkATu3_KRKSE"
   },
   "source": [
    "We have two files arr_0 and arr_1."
   ]
  },
  {
   "cell_type": "code",
   "execution_count": null,
   "metadata": {
    "colab": {},
    "colab_type": "code",
    "id": "C3z2jqmxPT0h"
   },
   "outputs": [],
   "source": [
    "# arr = np.load('quickdraw10.npz')"
   ]
  },
  {
   "cell_type": "code",
   "execution_count": null,
   "metadata": {
    "colab": {},
    "colab_type": "code",
    "id": "UhB7mI63Pbmx"
   },
   "outputs": [],
   "source": [
    "# arr['arr_0']  # Features\n",
    "# arr['arr_1']  # Target"
   ]
  },
  {
   "cell_type": "code",
   "execution_count": null,
   "metadata": {
    "colab": {},
    "colab_type": "code",
    "id": "nJsIsrvp7O3e"
   },
   "outputs": [],
   "source": [
    "from sklearn.model_selection import train_test_split\n",
    "\n",
    "def load_quickdraw10(path):\n",
    "\n",
    "    arr = np.load(path)\n",
    "   # reshape ??\n",
    "    # X = arr['arr_0'][0:10000, 0:10]\n",
    "    # y = arr['arr_1'][0:10000]\n",
    "    X = arr['arr_0']\n",
    "    y = arr['arr_1']\n",
    "\n",
    "    X_train, X_test, y_train, y_test = train_test_split(\n",
    "        X, y, train_size = 0.80, test_size=0.10, random_state=42)\n",
    "\n",
    "    return X_train, y_train, X_test, y_test"
   ]
  },
  {
   "cell_type": "code",
   "execution_count": null,
   "metadata": {
    "colab": {},
    "colab_type": "code",
    "id": "oGfG6nW3W6Lp"
   },
   "outputs": [],
   "source": [
    "# Tuple Unpacking  https://www.geeksforgeeks.org/unpacking-a-tuple-in-python/\n",
    "X_train, y_train, X_test, y_test = load_quickdraw10('quickdraw10.npz')"
   ]
  },
  {
   "cell_type": "code",
   "execution_count": null,
   "metadata": {
    "colab": {
     "base_uri": "https://localhost:8080/",
     "height": 34
    },
    "colab_type": "code",
    "id": "NckfoQv6XHNz",
    "outputId": "b7c42189-a085-4cff-f798-bdbb722aec8f"
   },
   "outputs": [
    {
     "data": {
      "text/plain": [
       "((80000, 784), (80000,))"
      ]
     },
     "execution_count": 9,
     "metadata": {
      "tags": []
     },
     "output_type": "execute_result"
    }
   ],
   "source": [
    "X_train.shape, y_train.shape"
   ]
  },
  {
   "cell_type": "code",
   "execution_count": null,
   "metadata": {
    "colab": {
     "base_uri": "https://localhost:8080/",
     "height": 34
    },
    "colab_type": "code",
    "id": "p4wv5getXHYV",
    "outputId": "63c05520-dc74-45be-c29d-a5e6b2d8d170"
   },
   "outputs": [
    {
     "data": {
      "text/plain": [
       "((10000, 784), (10000,))"
      ]
     },
     "execution_count": 10,
     "metadata": {
      "tags": []
     },
     "output_type": "execute_result"
    }
   ],
   "source": [
    "X_test.shape, y_test.shape"
   ]
  },
  {
   "cell_type": "code",
   "execution_count": null,
   "metadata": {
    "colab": {},
    "colab_type": "code",
    "id": "wt4klEK2XHgN"
   },
   "outputs": [],
   "source": []
  },
  {
   "cell_type": "markdown",
   "metadata": {
    "colab_type": "text",
    "id": "l-6PxI6H5__2"
   },
   "source": [
    "### Write a Model Function\n",
    "Using your model from yesterday, write a function called `create_model` which returns a compiled TensorFlow Keras Sequential Model suitable for classifying the QuickDraw-10 dataset. Include parameters for the following: \n",
    "* Learning Rate\n",
    "* Optimizer"
   ]
  },
  {
   "cell_type": "code",
   "execution_count": null,
   "metadata": {
    "colab": {},
    "colab_type": "code",
    "id": "nEREYT-3wI1f"
   },
   "outputs": [],
   "source": [
    "from tensorflow.keras import Sequential\n",
    "from tensorflow.keras.layers import Dense\n",
    "from tensorflow.keras.optimizers import SGD\n",
    "\n",
    "def create_model(lr, opt):\n",
    "    \"\"\"Insert Doc String\"\"\"\n",
    "    \n",
    "    opt = opt(lr)\n",
    "\n",
    "    model = Sequential([\n",
    "        Dense(32, activation=\"relu\", input_dim=784),\n",
    "        Dense(32, activation=\"relu\"),\n",
    "        Dense(10, activation=\"softmax\")\n",
    "      ])\n",
    "\n",
    "    model.compile(optimizer=opt, loss='sparse_categorical_crossentropy', metrics=['accuracy'])\n",
    "\n",
    "    return model"
   ]
  },
  {
   "cell_type": "code",
   "execution_count": null,
   "metadata": {
    "colab": {
     "base_uri": "https://localhost:8080/",
     "height": 34
    },
    "colab_type": "code",
    "id": "Ykc7WixnviWZ",
    "outputId": "0da5df17-99a7-4b75-e1d7-92897078442a"
   },
   "outputs": [
    {
     "data": {
      "text/plain": [
       "(80000, 784)"
      ]
     },
     "execution_count": 12,
     "metadata": {
      "tags": []
     },
     "output_type": "execute_result"
    }
   ],
   "source": [
    "X_train.shape"
   ]
  },
  {
   "cell_type": "code",
   "execution_count": null,
   "metadata": {
    "colab": {},
    "colab_type": "code",
    "id": "A0X2WdYMiZe1"
   },
   "outputs": [],
   "source": [
    "# quickdraw_model = create_model()\n",
    "# dir(quickdraw_model)"
   ]
  },
  {
   "cell_type": "code",
   "execution_count": null,
   "metadata": {
    "colab": {},
    "colab_type": "code",
    "id": "Yt4TY148immd"
   },
   "outputs": [],
   "source": [
    "# quickdraw_model.summary()"
   ]
  },
  {
   "cell_type": "markdown",
   "metadata": {
    "colab_type": "text",
    "id": "f0pCkh8C7eGL"
   },
   "source": [
    "### Experiment with Batch Size\n",
    "* Run 5 experiments with various batch sizes of your choice. \n",
    "* Visualize the results\n",
    "* Write up an analysis of the experiments and select the \"best\" performing model among your experiments. Make sure to compare against your model's performance yesterday. "
   ]
  },
  {
   "cell_type": "code",
   "execution_count": null,
   "metadata": {
    "colab": {},
    "colab_type": "code",
    "id": "57ADXucsklt3"
   },
   "outputs": [],
   "source": [
    "# X_train.shape, y_train.shape, X_test.shape, y_test.shape"
   ]
  },
  {
   "cell_type": "code",
   "execution_count": null,
   "metadata": {
    "colab": {
     "base_uri": "https://localhost:8080/",
     "height": 211
    },
    "colab_type": "code",
    "id": "USXjs7Hk71Hy",
    "outputId": "9603f6f7-14d6-4396-bf8e-cb4dd2945a68"
   },
   "outputs": [
    {
     "name": "stdout",
     "output_type": "stream",
     "text": [
      "Epoch 1/5\n",
      "2500/2500 [==============================] - 5s 2ms/step - loss: 1636090773504.0000 - accuracy: 0.1000 - val_loss: 2.3046 - val_accuracy: 0.0977\n",
      "Epoch 2/5\n",
      "2500/2500 [==============================] - 4s 2ms/step - loss: 2.3033 - accuracy: 0.0999 - val_loss: 2.3030 - val_accuracy: 0.1023\n",
      "Epoch 3/5\n",
      "2500/2500 [==============================] - 5s 2ms/step - loss: 2.3033 - accuracy: 0.1017 - val_loss: 2.3030 - val_accuracy: 0.0999\n",
      "Epoch 4/5\n",
      "2500/2500 [==============================] - 5s 2ms/step - loss: 2.3034 - accuracy: 0.0993 - val_loss: 2.3040 - val_accuracy: 0.0977\n",
      "Epoch 5/5\n",
      "2500/2500 [==============================] - 4s 2ms/step - loss: 2.3033 - accuracy: 0.1007 - val_loss: 2.3031 - val_accuracy: 0.0985\n"
     ]
    }
   ],
   "source": [
    "quickdraw_model_32 = create_model(.1, SGD)\n",
    "\n",
    "bt_model32 = quickdraw_model_32.fit(X_train, y_train,\n",
    "                                # Hyperparameters!\n",
    "                                epochs=5,\n",
    "                                batch_size=32,\n",
    "                                validation_data=(X_test, y_test))"
   ]
  },
  {
   "cell_type": "code",
   "execution_count": null,
   "metadata": {
    "colab": {
     "base_uri": "https://localhost:8080/",
     "height": 191
    },
    "colab_type": "code",
    "id": "WO-mYUaUjcR9",
    "outputId": "e2d10a1c-f3a5-4166-fc91-a574e3af8f29"
   },
   "outputs": [
    {
     "name": "stdout",
     "output_type": "stream",
     "text": [
      "Epoch 1/5\n",
      "10000/10000 [==============================] - 17s 2ms/step - loss: 2055091.8750 - accuracy: 0.0986 - val_loss: 2.3062 - val_accuracy: 0.0985\n",
      "Epoch 2/5\n",
      "10000/10000 [==============================] - 17s 2ms/step - loss: 2.3053 - accuracy: 0.1012 - val_loss: 2.3056 - val_accuracy: 0.0996\n",
      "Epoch 3/5\n",
      "10000/10000 [==============================] - 18s 2ms/step - loss: 2.3056 - accuracy: 0.0979 - val_loss: 2.3044 - val_accuracy: 0.0977\n",
      "Epoch 4/5\n",
      "10000/10000 [==============================] - 17s 2ms/step - loss: 2.3054 - accuracy: 0.0998 - val_loss: 2.3039 - val_accuracy: 0.1010\n",
      "Epoch 5/5\n",
      "10000/10000 [==============================] - 17s 2ms/step - loss: 2.3056 - accuracy: 0.0986 - val_loss: 2.3051 - val_accuracy: 0.0968\n"
     ]
    }
   ],
   "source": [
    "quickdraw_model_8 = create_model(.1, SGD)\n",
    "\n",
    "bt_model8 = quickdraw_model_8.fit(X_train, y_train,\n",
    "                                # Hyperparameters!\n",
    "                                epochs=5,\n",
    "                                batch_size=8,\n",
    "                                validation_data=(X_test, y_test))"
   ]
  },
  {
   "cell_type": "code",
   "execution_count": null,
   "metadata": {
    "colab": {
     "base_uri": "https://localhost:8080/",
     "height": 191
    },
    "colab_type": "code",
    "id": "kKcoFCVKjcOS",
    "outputId": "c30095ee-fe93-4103-8067-c78413be8445"
   },
   "outputs": [
    {
     "name": "stdout",
     "output_type": "stream",
     "text": [
      "Epoch 1/5\n",
      "800/800 [==============================] - 2s 2ms/step - loss: 139841.0156 - accuracy: 0.1001 - val_loss: 2.3031 - val_accuracy: 0.0999\n",
      "Epoch 2/5\n",
      "800/800 [==============================] - 1s 2ms/step - loss: 2.3029 - accuracy: 0.0984 - val_loss: 2.3028 - val_accuracy: 0.0996\n",
      "Epoch 3/5\n",
      "800/800 [==============================] - 1s 2ms/step - loss: 2.3029 - accuracy: 0.0975 - val_loss: 2.3028 - val_accuracy: 0.1006\n",
      "Epoch 4/5\n",
      "800/800 [==============================] - 1s 2ms/step - loss: 2.3028 - accuracy: 0.0985 - val_loss: 2.3028 - val_accuracy: 0.1006\n",
      "Epoch 5/5\n",
      "800/800 [==============================] - 1s 2ms/step - loss: 2.3029 - accuracy: 0.0997 - val_loss: 2.3028 - val_accuracy: 0.1006\n"
     ]
    }
   ],
   "source": [
    "quickdraw_model_100 = create_model(.1, SGD)\n",
    "\n",
    "bt_model100 = quickdraw_model_100.fit(X_train, y_train,\n",
    "                                # Hyperparameters!\n",
    "                                epochs=5,\n",
    "                                batch_size=100,\n",
    "                                validation_data=(X_test, y_test))"
   ]
  },
  {
   "cell_type": "code",
   "execution_count": null,
   "metadata": {
    "colab": {
     "base_uri": "https://localhost:8080/",
     "height": 191
    },
    "colab_type": "code",
    "id": "nd-DOgUKjcKV",
    "outputId": "dd4e7b27-6240-4fd3-ede5-78ac77e83f0a"
   },
   "outputs": [
    {
     "name": "stdout",
     "output_type": "stream",
     "text": [
      "Epoch 1/5\n",
      "16000/16000 [==============================] - 28s 2ms/step - loss: 283.8867 - accuracy: 0.0972 - val_loss: 2.3102 - val_accuracy: 0.1010\n",
      "Epoch 2/5\n",
      "16000/16000 [==============================] - 28s 2ms/step - loss: 26.5083 - accuracy: 0.1005 - val_loss: 2.3112 - val_accuracy: 0.0996\n",
      "Epoch 3/5\n",
      "16000/16000 [==============================] - 28s 2ms/step - loss: 2.3073 - accuracy: 0.0980 - val_loss: 2.3143 - val_accuracy: 0.0968\n",
      "Epoch 4/5\n",
      "16000/16000 [==============================] - 28s 2ms/step - loss: 2.3073 - accuracy: 0.0998 - val_loss: 2.3078 - val_accuracy: 0.0998\n",
      "Epoch 5/5\n",
      "16000/16000 [==============================] - 28s 2ms/step - loss: 2.3070 - accuracy: 0.1006 - val_loss: 2.3096 - val_accuracy: 0.1017\n"
     ]
    }
   ],
   "source": [
    "quickdraw_model_5 = create_model(.1, SGD)\n",
    "\n",
    "bt_model5 = quickdraw_model_5.fit(X_train, y_train,\n",
    "                                # Hyperparameters!\n",
    "                                epochs=5,\n",
    "                                batch_size=5,\n",
    "                                validation_data=(X_test, y_test))"
   ]
  },
  {
   "cell_type": "code",
   "execution_count": null,
   "metadata": {
    "colab": {
     "base_uri": "https://localhost:8080/",
     "height": 191
    },
    "colab_type": "code",
    "id": "axH77h-1jcEw",
    "outputId": "edc59ab9-2b8c-4f44-e682-75b18806b2c0"
   },
   "outputs": [
    {
     "name": "stdout",
     "output_type": "stream",
     "text": [
      "Epoch 1/5\n",
      "160/160 [==============================] - 0s 3ms/step - loss: 5157907.0000 - accuracy: 0.0993 - val_loss: 2.3027 - val_accuracy: 0.1006\n",
      "Epoch 2/5\n",
      "160/160 [==============================] - 0s 2ms/step - loss: 2.3026 - accuracy: 0.0990 - val_loss: 2.3027 - val_accuracy: 0.0968\n",
      "Epoch 3/5\n",
      "160/160 [==============================] - 0s 2ms/step - loss: 2.3026 - accuracy: 0.1000 - val_loss: 2.3027 - val_accuracy: 0.1010\n",
      "Epoch 4/5\n",
      "160/160 [==============================] - 0s 2ms/step - loss: 2.3026 - accuracy: 0.0988 - val_loss: 2.3027 - val_accuracy: 0.0977\n",
      "Epoch 5/5\n",
      "160/160 [==============================] - 0s 2ms/step - loss: 2.3026 - accuracy: 0.0992 - val_loss: 2.3027 - val_accuracy: 0.0977\n"
     ]
    }
   ],
   "source": [
    "quickdraw_model_500 = create_model(.1, SGD)\n",
    "\n",
    "bt_model500 = quickdraw_model_500.fit(X_train, y_train,\n",
    "                                # Hyperparameters!\n",
    "                                epochs=5,\n",
    "                                batch_size=500,\n",
    "                                validation_data=(X_test, y_test))"
   ]
  },
  {
   "cell_type": "markdown",
   "metadata": {
    "colab_type": "text",
    "id": "AKFcNAScav9S"
   },
   "source": [
    "##Graph the Batches\n"
   ]
  },
  {
   "cell_type": "code",
   "execution_count": null,
   "metadata": {
    "colab": {
     "base_uri": "https://localhost:8080/",
     "height": 206
    },
    "colab_type": "code",
    "id": "JtR4QbnhrC-k",
    "outputId": "b96daded-968d-48eb-bc03-306d7b41bb90"
   },
   "outputs": [
    {
     "data": {
      "text/html": [
       "<div>\n",
       "<style scoped>\n",
       "    .dataframe tbody tr th:only-of-type {\n",
       "        vertical-align: middle;\n",
       "    }\n",
       "\n",
       "    .dataframe tbody tr th {\n",
       "        vertical-align: top;\n",
       "    }\n",
       "\n",
       "    .dataframe thead th {\n",
       "        text-align: right;\n",
       "    }\n",
       "</style>\n",
       "<table border=\"1\" class=\"dataframe\">\n",
       "  <thead>\n",
       "    <tr style=\"text-align: right;\">\n",
       "      <th></th>\n",
       "      <th>loss</th>\n",
       "      <th>accuracy</th>\n",
       "      <th>val_loss</th>\n",
       "      <th>val_accuracy</th>\n",
       "      <th>epoch</th>\n",
       "      <th>Batch Size</th>\n",
       "    </tr>\n",
       "  </thead>\n",
       "  <tbody>\n",
       "    <tr>\n",
       "      <th>0</th>\n",
       "      <td>1.636091e+12</td>\n",
       "      <td>0.099987</td>\n",
       "      <td>2.304595</td>\n",
       "      <td>0.0977</td>\n",
       "      <td>0</td>\n",
       "      <td>32_</td>\n",
       "    </tr>\n",
       "    <tr>\n",
       "      <th>1</th>\n",
       "      <td>2.303276e+00</td>\n",
       "      <td>0.099887</td>\n",
       "      <td>2.302965</td>\n",
       "      <td>0.1023</td>\n",
       "      <td>1</td>\n",
       "      <td>32_</td>\n",
       "    </tr>\n",
       "    <tr>\n",
       "      <th>2</th>\n",
       "      <td>2.303268e+00</td>\n",
       "      <td>0.101713</td>\n",
       "      <td>2.302982</td>\n",
       "      <td>0.0999</td>\n",
       "      <td>2</td>\n",
       "      <td>32_</td>\n",
       "    </tr>\n",
       "    <tr>\n",
       "      <th>3</th>\n",
       "      <td>2.303356e+00</td>\n",
       "      <td>0.099300</td>\n",
       "      <td>2.304019</td>\n",
       "      <td>0.0977</td>\n",
       "      <td>3</td>\n",
       "      <td>32_</td>\n",
       "    </tr>\n",
       "    <tr>\n",
       "      <th>4</th>\n",
       "      <td>2.303346e+00</td>\n",
       "      <td>0.100700</td>\n",
       "      <td>2.303142</td>\n",
       "      <td>0.0985</td>\n",
       "      <td>4</td>\n",
       "      <td>32_</td>\n",
       "    </tr>\n",
       "  </tbody>\n",
       "</table>\n",
       "</div>"
      ],
      "text/plain": [
       "           loss  accuracy  val_loss  val_accuracy  epoch Batch Size\n",
       "0  1.636091e+12  0.099987  2.304595        0.0977      0        32_\n",
       "1  2.303276e+00  0.099887  2.302965        0.1023      1        32_\n",
       "2  2.303268e+00  0.101713  2.302982        0.0999      2        32_\n",
       "3  2.303356e+00  0.099300  2.304019        0.0977      3        32_\n",
       "4  2.303346e+00  0.100700  2.303142        0.0985      4        32_"
      ]
     },
     "execution_count": 21,
     "metadata": {
      "tags": []
     },
     "output_type": "execute_result"
    }
   ],
   "source": [
    "import pandas as pd\n",
    "\n",
    "batch_sizes = []\n",
    "\n",
    "for exp, result in zip([\n",
    "                        bt_model32, \n",
    "                        bt_model8, \n",
    "                        bt_model100, \n",
    "                        bt_model5, \n",
    "                        bt_model500\n",
    "                        ], \n",
    "                       [\n",
    "                        \"32_\", \n",
    "                        \"8_\", \n",
    "                        \"100_\", \n",
    "                        \"5_\", \n",
    "                        \"500_\"\n",
    "                        ]\n",
    "):\n",
    "\n",
    "  df = pd.DataFrame.from_dict(exp.history)\n",
    "  df['epoch'] = df.index.values\n",
    "  df['Batch Size'] = result\n",
    "\n",
    "  batch_sizes.append(df)\n",
    "\n",
    "df = pd.concat(batch_sizes)\n",
    "df['Batch Size'] = df['Batch Size'].astype('str')\n",
    "df.head()"
   ]
  },
  {
   "cell_type": "code",
   "execution_count": null,
   "metadata": {
    "colab": {},
    "colab_type": "code",
    "id": "Vnd00P5l3Cu7"
   },
   "outputs": [],
   "source": [
    "# df['Batch Size'].unique()"
   ]
  },
  {
   "cell_type": "code",
   "execution_count": null,
   "metadata": {
    "colab": {
     "base_uri": "https://localhost:8080/",
     "height": 350
    },
    "colab_type": "code",
    "id": "vcZLCnzLrDFX",
    "outputId": "bf8c33bd-3414-4e65-fae0-50730634491b"
   },
   "outputs": [
    {
     "name": "stderr",
     "output_type": "stream",
     "text": [
      "/usr/local/lib/python3.6/dist-packages/statsmodels/tools/_testing.py:19: FutureWarning: pandas.util.testing is deprecated. Use the functions in the public API at pandas.testing instead.\n",
      "  import pandas.util.testing as tm\n"
     ]
    },
    {
     "data": {
      "image/png": "[encoded data removed]",
      "text/plain": [
       "<Figure size 432x288 with 1 Axes>"
      ]
     },
     "metadata": {
      "needs_background": "light",
      "tags": []
     },
     "output_type": "display_data"
    }
   ],
   "source": [
    "import seaborn as sns\n",
    "import matplotlib.pyplot as plt\n",
    "\n",
    "ax = sns.lineplot(x='epoch', y='val_accuracy', hue='Batch Size', data=df)\n",
    "ax.set_title(\"Comparing Batch Sizes - Val Accuracy Scores\")\n",
    "plt.show();"
   ]
  },
  {
   "cell_type": "code",
   "execution_count": null,
   "metadata": {
    "colab": {
     "base_uri": "https://localhost:8080/",
     "height": 295
    },
    "colab_type": "code",
    "id": "oIBtn5_arDbw",
    "outputId": "d74e1f7a-6462-453a-92d5-313fdd69a6a1"
   },
   "outputs": [
    {
     "data": {
      "image/png": "[encoded data removed]",
      "text/plain": [
       "<Figure size 432x288 with 1 Axes>"
      ]
     },
     "metadata": {
      "needs_background": "light",
      "tags": []
     },
     "output_type": "display_data"
    }
   ],
   "source": [
    "ax = sns.lineplot(x='epoch', y='val_loss', hue='Batch Size', data=df);\n",
    "ax.set_title(\"Comparing Different Batch Sizes - Val Loss Scores\")\n",
    "plt.show();"
   ]
  },
  {
   "cell_type": "markdown",
   "metadata": {
    "colab_type": "text",
    "id": "9fPND4apboCN"
   },
   "source": [
    "#WRITE YOUR ANAYLSIS HERE\n",
    "\n",
    "#Find a best batch and use for the below section."
   ]
  },
  {
   "cell_type": "markdown",
   "metadata": {
    "colab_type": "text",
    "id": "8b-r70o8p2Dm"
   },
   "source": [
    "### Experiment with Learning Rate\n",
    "* Run 5 experiments with various learning rate magnitudes: 1, .1, .01, .001, .0001.\n",
    "* Use the \"best\" batch size from the previous experiment\n",
    "* Visualize the results\n",
    "* Write up an analysis of the experiments and select the \"best\" performing model among your experiments. Make sure to compare against the previous experiments and your model's performance yesterday. "
   ]
  },
  {
   "cell_type": "code",
   "execution_count": null,
   "metadata": {
    "colab": {
     "base_uri": "https://localhost:8080/",
     "height": 191
    },
    "colab_type": "code",
    "id": "_SA144xx8Luf",
    "outputId": "0e8b8490-ae86-4cb1-a6b5-ecc347913fb1"
   },
   "outputs": [
    {
     "name": "stdout",
     "output_type": "stream",
     "text": [
      "Epoch 1/5\n",
      "2500/2500 [==============================] - 5s 2ms/step - loss: 14505827.0000 - accuracy: 0.1009 - val_loss: 2.3104 - val_accuracy: 0.1006\n",
      "Epoch 2/5\n",
      "2500/2500 [==============================] - 5s 2ms/step - loss: 2.3226 - accuracy: 0.1006 - val_loss: 2.3087 - val_accuracy: 0.1010\n",
      "Epoch 3/5\n",
      "2500/2500 [==============================] - 5s 2ms/step - loss: 2.3097 - accuracy: 0.1007 - val_loss: 2.3119 - val_accuracy: 0.1023\n",
      "Epoch 4/5\n",
      "2500/2500 [==============================] - 4s 2ms/step - loss: 2.3104 - accuracy: 0.0971 - val_loss: 2.3081 - val_accuracy: 0.1010\n",
      "Epoch 5/5\n",
      "2500/2500 [==============================] - 5s 2ms/step - loss: 2.3098 - accuracy: 0.1002 - val_loss: 2.3112 - val_accuracy: 0.1023\n"
     ]
    }
   ],
   "source": [
    "quickdraw_model_100 = create_model(1,SGD)\n",
    "\n",
    "bt_model100 = quickdraw_model_100.fit(X_train, y_train,\n",
    "                                # Hyperparameters!\n",
    "                                epochs=5,\n",
    "                                batch_size=32,\n",
    "                                validation_data=(X_test, y_test))"
   ]
  },
  {
   "cell_type": "code",
   "execution_count": null,
   "metadata": {
    "colab": {
     "base_uri": "https://localhost:8080/",
     "height": 211
    },
    "colab_type": "code",
    "id": "YDLm-XzGcn2S",
    "outputId": "8c800e0a-5d83-47b0-e801-8a0d3a7102ec"
   },
   "outputs": [
    {
     "name": "stdout",
     "output_type": "stream",
     "text": [
      "Epoch 1/5\n",
      "2500/2500 [==============================] - 5s 2ms/step - loss: 1191695613952.0000 - accuracy: 0.0994 - val_loss: 2.3030 - val_accuracy: 0.0968\n",
      "Epoch 2/5\n",
      "2500/2500 [==============================] - 4s 2ms/step - loss: 2.3032 - accuracy: 0.1005 - val_loss: 2.3031 - val_accuracy: 0.1019\n",
      "Epoch 3/5\n",
      "2500/2500 [==============================] - 4s 2ms/step - loss: 2.3033 - accuracy: 0.0988 - val_loss: 2.3030 - val_accuracy: 0.1019\n",
      "Epoch 4/5\n",
      "2500/2500 [==============================] - 4s 2ms/step - loss: 2.3033 - accuracy: 0.1012 - val_loss: 2.3033 - val_accuracy: 0.0968\n",
      "Epoch 5/5\n",
      "2500/2500 [==============================] - 5s 2ms/step - loss: 2.3033 - accuracy: 0.0980 - val_loss: 2.3028 - val_accuracy: 0.1019\n"
     ]
    }
   ],
   "source": [
    "quickdraw_model_10 = create_model(.1, SGD)\n",
    "\n",
    "bt_model10 = quickdraw_model_10.fit(X_train, y_train,\n",
    "                                # Hyperparameters!\n",
    "                                epochs=5,\n",
    "                                batch_size=32,\n",
    "                                validation_data=(X_test, y_test))"
   ]
  },
  {
   "cell_type": "code",
   "execution_count": null,
   "metadata": {
    "colab": {
     "base_uri": "https://localhost:8080/",
     "height": 191
    },
    "colab_type": "code",
    "id": "OmCpXcBkcnr5",
    "outputId": "f5785a0f-314f-4b2e-ec92-4de6ea51dbd4"
   },
   "outputs": [
    {
     "name": "stdout",
     "output_type": "stream",
     "text": [
      "Epoch 1/5\n",
      "2500/2500 [==============================] - 5s 2ms/step - loss: 7.2682 - accuracy: 0.1005 - val_loss: 2.2951 - val_accuracy: 0.1021\n",
      "Epoch 2/5\n",
      "2500/2500 [==============================] - 4s 2ms/step - loss: 2.2597 - accuracy: 0.1227 - val_loss: 2.3030 - val_accuracy: 0.0977\n",
      "Epoch 3/5\n",
      "2500/2500 [==============================] - 4s 2ms/step - loss: 2.3028 - accuracy: 0.0979 - val_loss: 2.3027 - val_accuracy: 0.1010\n",
      "Epoch 4/5\n",
      "2500/2500 [==============================] - 4s 2ms/step - loss: 2.3027 - accuracy: 0.0993 - val_loss: 2.3027 - val_accuracy: 0.0968\n",
      "Epoch 5/5\n",
      "2500/2500 [==============================] - 4s 2ms/step - loss: 2.3026 - accuracy: 0.0978 - val_loss: 2.3028 - val_accuracy: 0.0968\n"
     ]
    }
   ],
   "source": [
    "quickdraw_model_01 = create_model(.01, SGD)\n",
    "\n",
    "bt_model01 = quickdraw_model_01.fit(X_train, y_train,\n",
    "                                # Hyperparameters!\n",
    "                                epochs=5,\n",
    "                                batch_size=32,\n",
    "                                validation_data=(X_test, y_test))"
   ]
  },
  {
   "cell_type": "code",
   "execution_count": null,
   "metadata": {
    "colab": {
     "base_uri": "https://localhost:8080/",
     "height": 1000
    },
    "colab_type": "code",
    "id": "59vYhV8dcnnq",
    "outputId": "2f634b32-d62a-4452-93b8-8aa0cb41eee5"
   },
   "outputs": [
    {
     "name": "stdout",
     "output_type": "stream",
     "text": [
      "Epoch 1/30\n",
      "2500/2500 [==============================] - 5s 2ms/step - loss: 2.0432 - accuracy: 0.3385 - val_loss: 1.7069 - val_accuracy: 0.3845\n",
      "Epoch 2/30\n",
      "2500/2500 [==============================] - 4s 2ms/step - loss: 1.6162 - accuracy: 0.4081 - val_loss: 1.5569 - val_accuracy: 0.4301\n",
      "Epoch 3/30\n",
      "2500/2500 [==============================] - 4s 2ms/step - loss: 1.4862 - accuracy: 0.4556 - val_loss: 1.4413 - val_accuracy: 0.4785\n",
      "Epoch 4/30\n",
      "2500/2500 [==============================] - 4s 2ms/step - loss: 1.3920 - accuracy: 0.4861 - val_loss: 1.3799 - val_accuracy: 0.5207\n",
      "Epoch 5/30\n",
      "2500/2500 [==============================] - 4s 2ms/step - loss: 1.3230 - accuracy: 0.5093 - val_loss: 1.3338 - val_accuracy: 0.5150\n",
      "Epoch 6/30\n",
      "2500/2500 [==============================] - 4s 2ms/step - loss: 1.2688 - accuracy: 0.5214 - val_loss: 1.2672 - val_accuracy: 0.5371\n",
      "Epoch 7/30\n",
      "2500/2500 [==============================] - 4s 2ms/step - loss: 1.2130 - accuracy: 0.5520 - val_loss: 1.2202 - val_accuracy: 0.5730\n",
      "Epoch 8/30\n",
      "2500/2500 [==============================] - 4s 2ms/step - loss: 1.1333 - accuracy: 0.6062 - val_loss: 1.1385 - val_accuracy: 0.6125\n",
      "Epoch 9/30\n",
      "2500/2500 [==============================] - 4s 2ms/step - loss: 1.0716 - accuracy: 0.6279 - val_loss: 1.0939 - val_accuracy: 0.6358\n",
      "Epoch 10/30\n",
      "2500/2500 [==============================] - 4s 2ms/step - loss: 1.0357 - accuracy: 0.6416 - val_loss: 1.0617 - val_accuracy: 0.6464\n",
      "Epoch 11/30\n",
      "2500/2500 [==============================] - 4s 2ms/step - loss: 1.0047 - accuracy: 0.6546 - val_loss: 1.0330 - val_accuracy: 0.6553\n",
      "Epoch 12/30\n",
      "2500/2500 [==============================] - 4s 2ms/step - loss: 0.9815 - accuracy: 0.6652 - val_loss: 1.0127 - val_accuracy: 0.6372\n",
      "Epoch 13/30\n",
      "2500/2500 [==============================] - 4s 2ms/step - loss: 0.9602 - accuracy: 0.6762 - val_loss: 0.9918 - val_accuracy: 0.6811\n",
      "Epoch 14/30\n",
      "2500/2500 [==============================] - 5s 2ms/step - loss: 0.9364 - accuracy: 0.6871 - val_loss: 0.9967 - val_accuracy: 0.6768\n",
      "Epoch 15/30\n",
      "2500/2500 [==============================] - 5s 2ms/step - loss: 0.9177 - accuracy: 0.6942 - val_loss: 0.9527 - val_accuracy: 0.6918\n",
      "Epoch 16/30\n",
      "2500/2500 [==============================] - 5s 2ms/step - loss: 0.9019 - accuracy: 0.6993 - val_loss: 0.9381 - val_accuracy: 0.6936\n",
      "Epoch 17/30\n",
      "2500/2500 [==============================] - 4s 2ms/step - loss: 0.8874 - accuracy: 0.7037 - val_loss: 0.9332 - val_accuracy: 0.6973\n",
      "Epoch 18/30\n",
      "2500/2500 [==============================] - 4s 2ms/step - loss: 0.8758 - accuracy: 0.7076 - val_loss: 0.9141 - val_accuracy: 0.7029\n",
      "Epoch 19/30\n",
      "2500/2500 [==============================] - 4s 2ms/step - loss: 0.8679 - accuracy: 0.7115 - val_loss: 0.9103 - val_accuracy: 0.7030\n",
      "Epoch 20/30\n",
      "2500/2500 [==============================] - 4s 2ms/step - loss: 0.8587 - accuracy: 0.7131 - val_loss: 0.9077 - val_accuracy: 0.7058\n",
      "Epoch 21/30\n",
      "2500/2500 [==============================] - 4s 2ms/step - loss: 0.8501 - accuracy: 0.7161 - val_loss: 0.8985 - val_accuracy: 0.7109\n",
      "Epoch 22/30\n",
      "2500/2500 [==============================] - 4s 2ms/step - loss: 0.8434 - accuracy: 0.7192 - val_loss: 0.8885 - val_accuracy: 0.7123\n",
      "Epoch 23/30\n",
      "2500/2500 [==============================] - 4s 2ms/step - loss: 0.8359 - accuracy: 0.7223 - val_loss: 0.8787 - val_accuracy: 0.7163\n",
      "Epoch 24/30\n",
      "2500/2500 [==============================] - 4s 2ms/step - loss: 0.8312 - accuracy: 0.7228 - val_loss: 0.8793 - val_accuracy: 0.7173\n",
      "Epoch 25/30\n",
      "2500/2500 [==============================] - 4s 2ms/step - loss: 0.8271 - accuracy: 0.7245 - val_loss: 0.8735 - val_accuracy: 0.7168\n",
      "Epoch 26/30\n",
      "2500/2500 [==============================] - 4s 2ms/step - loss: 0.8218 - accuracy: 0.7266 - val_loss: 0.8748 - val_accuracy: 0.7194\n",
      "Epoch 27/30\n",
      "2500/2500 [==============================] - 4s 2ms/step - loss: 0.8170 - accuracy: 0.7276 - val_loss: 0.8686 - val_accuracy: 0.7208\n",
      "Epoch 28/30\n",
      "2500/2500 [==============================] - 5s 2ms/step - loss: 0.8131 - accuracy: 0.7297 - val_loss: 0.8654 - val_accuracy: 0.7205\n",
      "Epoch 29/30\n",
      "2500/2500 [==============================] - 4s 2ms/step - loss: 0.8102 - accuracy: 0.7309 - val_loss: 0.8640 - val_accuracy: 0.7252\n",
      "Epoch 30/30\n",
      "2500/2500 [==============================] - 4s 2ms/step - loss: 0.8069 - accuracy: 0.7322 - val_loss: 0.8630 - val_accuracy: 0.7196\n"
     ]
    }
   ],
   "source": [
    "quickdraw_model_001 = create_model(.001, SGD)\n",
    "\n",
    "bt_model001 = quickdraw_model_001.fit(X_train, y_train,\n",
    "                                # Hyperparameters!\n",
    "                                epochs=30,\n",
    "                                batch_size=32,\n",
    "                                validation_data=(X_test, y_test))"
   ]
  },
  {
   "cell_type": "code",
   "execution_count": null,
   "metadata": {
    "colab": {
     "base_uri": "https://localhost:8080/",
     "height": 1000
    },
    "colab_type": "code",
    "id": "UdPbHtn2cnkA",
    "outputId": "644616df-bb4a-4e80-f27c-c8b6a7db0879"
   },
   "outputs": [
    {
     "name": "stdout",
     "output_type": "stream",
     "text": [
      "Epoch 1/30\n",
      "2500/2500 [==============================] - 4s 2ms/step - loss: 3.9537 - accuracy: 0.2405 - val_loss: 1.9693 - val_accuracy: 0.3006\n",
      "Epoch 2/30\n",
      "2500/2500 [==============================] - 4s 2ms/step - loss: 1.8670 - accuracy: 0.3575 - val_loss: 1.8013 - val_accuracy: 0.3811\n",
      "Epoch 3/30\n",
      "2500/2500 [==============================] - 5s 2ms/step - loss: 1.7336 - accuracy: 0.3959 - val_loss: 1.7177 - val_accuracy: 0.4050\n",
      "Epoch 4/30\n",
      "2500/2500 [==============================] - 5s 2ms/step - loss: 1.6572 - accuracy: 0.4192 - val_loss: 1.6561 - val_accuracy: 0.4300\n",
      "Epoch 5/30\n",
      "2500/2500 [==============================] - 4s 2ms/step - loss: 1.6004 - accuracy: 0.4379 - val_loss: 1.6082 - val_accuracy: 0.4431\n",
      "Epoch 6/30\n",
      "2500/2500 [==============================] - 4s 2ms/step - loss: 1.5549 - accuracy: 0.4512 - val_loss: 1.5657 - val_accuracy: 0.4443\n",
      "Epoch 7/30\n",
      "2500/2500 [==============================] - 4s 2ms/step - loss: 1.5229 - accuracy: 0.4582 - val_loss: 1.5403 - val_accuracy: 0.4656\n",
      "Epoch 8/30\n",
      "2500/2500 [==============================] - 4s 2ms/step - loss: 1.4950 - accuracy: 0.4692 - val_loss: 1.5220 - val_accuracy: 0.4706\n",
      "Epoch 9/30\n",
      "2500/2500 [==============================] - 4s 2ms/step - loss: 1.4728 - accuracy: 0.4758 - val_loss: 1.5020 - val_accuracy: 0.4811\n",
      "Epoch 10/30\n",
      "2500/2500 [==============================] - 4s 2ms/step - loss: 1.4539 - accuracy: 0.4851 - val_loss: 1.4768 - val_accuracy: 0.4863\n",
      "Epoch 11/30\n",
      "2500/2500 [==============================] - 4s 2ms/step - loss: 1.4369 - accuracy: 0.4886 - val_loss: 1.4744 - val_accuracy: 0.4858\n",
      "Epoch 12/30\n",
      "2500/2500 [==============================] - 4s 2ms/step - loss: 1.4221 - accuracy: 0.4981 - val_loss: 1.4547 - val_accuracy: 0.5021\n",
      "Epoch 13/30\n",
      "2500/2500 [==============================] - 4s 2ms/step - loss: 1.4093 - accuracy: 0.5016 - val_loss: 1.4439 - val_accuracy: 0.5006\n",
      "Epoch 14/30\n",
      "2500/2500 [==============================] - 4s 2ms/step - loss: 1.3970 - accuracy: 0.5075 - val_loss: 1.4384 - val_accuracy: 0.5059\n",
      "Epoch 15/30\n",
      "2500/2500 [==============================] - 4s 2ms/step - loss: 1.3864 - accuracy: 0.5096 - val_loss: 1.4168 - val_accuracy: 0.5182\n",
      "Epoch 16/30\n",
      "2500/2500 [==============================] - 4s 2ms/step - loss: 1.3752 - accuracy: 0.5151 - val_loss: 1.4075 - val_accuracy: 0.5119\n",
      "Epoch 17/30\n",
      "2500/2500 [==============================] - 4s 2ms/step - loss: 1.3656 - accuracy: 0.5174 - val_loss: 1.4031 - val_accuracy: 0.4990\n",
      "Epoch 18/30\n",
      "2500/2500 [==============================] - 4s 2ms/step - loss: 1.3570 - accuracy: 0.5230 - val_loss: 1.3904 - val_accuracy: 0.5199\n",
      "Epoch 19/30\n",
      "2500/2500 [==============================] - 5s 2ms/step - loss: 1.3481 - accuracy: 0.5244 - val_loss: 1.3824 - val_accuracy: 0.5136\n",
      "Epoch 20/30\n",
      "2500/2500 [==============================] - 5s 2ms/step - loss: 1.3388 - accuracy: 0.5303 - val_loss: 1.3786 - val_accuracy: 0.5280\n",
      "Epoch 21/30\n",
      "2500/2500 [==============================] - 5s 2ms/step - loss: 1.3301 - accuracy: 0.5329 - val_loss: 1.3698 - val_accuracy: 0.5277\n",
      "Epoch 22/30\n",
      "2500/2500 [==============================] - 4s 2ms/step - loss: 1.3216 - accuracy: 0.5367 - val_loss: 1.3616 - val_accuracy: 0.5219\n",
      "Epoch 23/30\n",
      "2500/2500 [==============================] - 4s 2ms/step - loss: 1.3135 - accuracy: 0.5414 - val_loss: 1.3516 - val_accuracy: 0.5359\n",
      "Epoch 24/30\n",
      "2500/2500 [==============================] - 4s 2ms/step - loss: 1.3058 - accuracy: 0.5430 - val_loss: 1.3486 - val_accuracy: 0.5459\n",
      "Epoch 25/30\n",
      "2500/2500 [==============================] - 5s 2ms/step - loss: 1.2974 - accuracy: 0.5468 - val_loss: 1.3391 - val_accuracy: 0.5268\n",
      "Epoch 26/30\n",
      "2500/2500 [==============================] - 4s 2ms/step - loss: 1.2907 - accuracy: 0.5498 - val_loss: 1.3266 - val_accuracy: 0.5474\n",
      "Epoch 27/30\n",
      "2500/2500 [==============================] - 4s 2ms/step - loss: 1.2836 - accuracy: 0.5509 - val_loss: 1.3263 - val_accuracy: 0.5457\n",
      "Epoch 28/30\n",
      "2500/2500 [==============================] - 4s 2ms/step - loss: 1.2762 - accuracy: 0.5550 - val_loss: 1.3441 - val_accuracy: 0.5438\n",
      "Epoch 29/30\n",
      "2500/2500 [==============================] - 4s 2ms/step - loss: 1.2702 - accuracy: 0.5547 - val_loss: 1.3104 - val_accuracy: 0.5537\n",
      "Epoch 30/30\n",
      "2500/2500 [==============================] - 4s 2ms/step - loss: 1.2640 - accuracy: 0.5587 - val_loss: 1.3065 - val_accuracy: 0.5411\n"
     ]
    }
   ],
   "source": [
    "quickdraw_model_0001 = create_model(.0001, SGD)\n",
    "\n",
    "bt_model0001 = quickdraw_model_0001.fit(X_train, y_train,\n",
    "                                # Hyperparameters!\n",
    "                                epochs=30,\n",
    "                                batch_size=32,\n",
    "                                validation_data=(X_test, y_test))"
   ]
  },
  {
   "cell_type": "code",
   "execution_count": null,
   "metadata": {
    "colab": {
     "base_uri": "https://localhost:8080/",
     "height": 1000
    },
    "colab_type": "code",
    "id": "hSoLyrZkwGuE",
    "outputId": "b3ffd20f-91b6-4bcb-eed9-a5ac1d340a96"
   },
   "outputs": [
    {
     "name": "stdout",
     "output_type": "stream",
     "text": [
      "Epoch 1/35\n",
      "2500/2500 [==============================] - 5s 2ms/step - loss: 2.0807 - accuracy: 0.3054 - val_loss: 1.7366 - val_accuracy: 0.3649\n",
      "Epoch 2/35\n",
      "2500/2500 [==============================] - 4s 2ms/step - loss: 1.6484 - accuracy: 0.3984 - val_loss: 1.5931 - val_accuracy: 0.4259\n",
      "Epoch 3/35\n",
      "2500/2500 [==============================] - 4s 2ms/step - loss: 1.4995 - accuracy: 0.4492 - val_loss: 1.4599 - val_accuracy: 0.4760\n",
      "Epoch 4/35\n",
      "2500/2500 [==============================] - 4s 2ms/step - loss: 1.4135 - accuracy: 0.4613 - val_loss: 1.3896 - val_accuracy: 0.4680\n",
      "Epoch 5/35\n",
      "2500/2500 [==============================] - 4s 2ms/step - loss: 1.3381 - accuracy: 0.4811 - val_loss: 1.3226 - val_accuracy: 0.5296\n",
      "Epoch 6/35\n",
      "2500/2500 [==============================] - 4s 2ms/step - loss: 1.2262 - accuracy: 0.5577 - val_loss: 1.1947 - val_accuracy: 0.5869\n",
      "Epoch 7/35\n",
      "2500/2500 [==============================] - 4s 2ms/step - loss: 1.1592 - accuracy: 0.5913 - val_loss: 1.1609 - val_accuracy: 0.6048\n",
      "Epoch 8/35\n",
      "2500/2500 [==============================] - 5s 2ms/step - loss: 1.1029 - accuracy: 0.6265 - val_loss: 1.1061 - val_accuracy: 0.6316\n",
      "Epoch 9/35\n",
      "2500/2500 [==============================] - 5s 2ms/step - loss: 1.0610 - accuracy: 0.6459 - val_loss: 1.0945 - val_accuracy: 0.6379\n",
      "Epoch 10/35\n",
      "2500/2500 [==============================] - 5s 2ms/step - loss: 1.0315 - accuracy: 0.6560 - val_loss: 1.0907 - val_accuracy: 0.6411\n",
      "Epoch 11/35\n",
      "2500/2500 [==============================] - 4s 2ms/step - loss: 1.0102 - accuracy: 0.6635 - val_loss: 1.0346 - val_accuracy: 0.6635\n",
      "Epoch 12/35\n",
      "2500/2500 [==============================] - 4s 2ms/step - loss: 0.9925 - accuracy: 0.6683 - val_loss: 1.0445 - val_accuracy: 0.6576\n",
      "Epoch 13/35\n",
      "2500/2500 [==============================] - 4s 2ms/step - loss: 0.9784 - accuracy: 0.6732 - val_loss: 1.0052 - val_accuracy: 0.6687\n",
      "Epoch 14/35\n",
      "2500/2500 [==============================] - 4s 2ms/step - loss: 0.9673 - accuracy: 0.6761 - val_loss: 1.0098 - val_accuracy: 0.6692\n",
      "Epoch 15/35\n",
      "2500/2500 [==============================] - 4s 2ms/step - loss: 0.9573 - accuracy: 0.6795 - val_loss: 0.9916 - val_accuracy: 0.6771\n",
      "Epoch 16/35\n",
      "2500/2500 [==============================] - 4s 2ms/step - loss: 0.9461 - accuracy: 0.6824 - val_loss: 0.9779 - val_accuracy: 0.6867\n",
      "Epoch 17/35\n",
      "2500/2500 [==============================] - 4s 2ms/step - loss: 0.9408 - accuracy: 0.6847 - val_loss: 1.0025 - val_accuracy: 0.6694\n",
      "Epoch 18/35\n",
      "2500/2500 [==============================] - 4s 2ms/step - loss: 0.9325 - accuracy: 0.6875 - val_loss: 0.9818 - val_accuracy: 0.6771\n",
      "Epoch 19/35\n",
      "2500/2500 [==============================] - 4s 2ms/step - loss: 0.9259 - accuracy: 0.6897 - val_loss: 0.9747 - val_accuracy: 0.6789\n",
      "Epoch 20/35\n",
      "2500/2500 [==============================] - 4s 2ms/step - loss: 0.9215 - accuracy: 0.6895 - val_loss: 0.9575 - val_accuracy: 0.6943\n",
      "Epoch 21/35\n",
      "2500/2500 [==============================] - 4s 2ms/step - loss: 0.9157 - accuracy: 0.6936 - val_loss: 0.9746 - val_accuracy: 0.6792\n",
      "Epoch 22/35\n",
      "2500/2500 [==============================] - 5s 2ms/step - loss: 0.9094 - accuracy: 0.6967 - val_loss: 0.9614 - val_accuracy: 0.6940\n",
      "Epoch 23/35\n",
      "2500/2500 [==============================] - 5s 2ms/step - loss: 0.9039 - accuracy: 0.6982 - val_loss: 0.9514 - val_accuracy: 0.6883\n",
      "Epoch 24/35\n",
      "2500/2500 [==============================] - 4s 2ms/step - loss: 0.9002 - accuracy: 0.6989 - val_loss: 0.9524 - val_accuracy: 0.6880\n",
      "Epoch 25/35\n",
      "2500/2500 [==============================] - 4s 2ms/step - loss: 0.8956 - accuracy: 0.7015 - val_loss: 0.9355 - val_accuracy: 0.6983\n",
      "Epoch 26/35\n",
      "2500/2500 [==============================] - 4s 2ms/step - loss: 0.8910 - accuracy: 0.7034 - val_loss: 0.9354 - val_accuracy: 0.6939\n",
      "Epoch 27/35\n",
      "2500/2500 [==============================] - 5s 2ms/step - loss: 0.8866 - accuracy: 0.7034 - val_loss: 0.9375 - val_accuracy: 0.6931\n",
      "Epoch 28/35\n",
      "2500/2500 [==============================] - 4s 2ms/step - loss: 0.8826 - accuracy: 0.7042 - val_loss: 0.9277 - val_accuracy: 0.6973\n",
      "Epoch 29/35\n",
      "2500/2500 [==============================] - 4s 2ms/step - loss: 0.8801 - accuracy: 0.7060 - val_loss: 0.9266 - val_accuracy: 0.7018\n",
      "Epoch 30/35\n",
      "2500/2500 [==============================] - 4s 2ms/step - loss: 0.8759 - accuracy: 0.7139 - val_loss: 0.9306 - val_accuracy: 0.7027\n",
      "Epoch 31/35\n",
      "2500/2500 [==============================] - 4s 2ms/step - loss: 0.8742 - accuracy: 0.7148 - val_loss: 0.9284 - val_accuracy: 0.7071\n",
      "Epoch 32/35\n",
      "2500/2500 [==============================] - 4s 2ms/step - loss: 0.8718 - accuracy: 0.7156 - val_loss: 0.9144 - val_accuracy: 0.7115\n",
      "Epoch 33/35\n",
      "2500/2500 [==============================] - 4s 2ms/step - loss: 0.8681 - accuracy: 0.7162 - val_loss: 0.9150 - val_accuracy: 0.7067\n",
      "Epoch 34/35\n",
      "2500/2500 [==============================] - 4s 2ms/step - loss: 0.8658 - accuracy: 0.7184 - val_loss: 0.9135 - val_accuracy: 0.7084\n",
      "Epoch 35/35\n",
      "2500/2500 [==============================] - 4s 2ms/step - loss: 0.8646 - accuracy: 0.7180 - val_loss: 0.9097 - val_accuracy: 0.7106\n"
     ]
    }
   ],
   "source": [
    "# Similar to bt_model4, added more epochs to analyze val acc score\n",
    "quickdraw_model_00001 = create_model(.001, SGD)\n",
    "\n",
    "bt_model00001 = quickdraw_model_00001.fit(X_train, y_train,\n",
    "                                # Hyperparameters!\n",
    "                                epochs=35,\n",
    "                                batch_size=32,\n",
    "                                validation_data=(X_test, y_test))"
   ]
  },
  {
   "cell_type": "markdown",
   "metadata": {
    "colab_type": "text",
    "id": "uC7FdZMcd8SY"
   },
   "source": [
    "#Graph the Different Learning Rates"
   ]
  },
  {
   "cell_type": "code",
   "execution_count": null,
   "metadata": {
    "colab": {
     "base_uri": "https://localhost:8080/",
     "height": 206
    },
    "colab_type": "code",
    "id": "z7i5FWXZd8Ev",
    "outputId": "eb409302-d16d-44aa-e8a9-8642f69d1d11"
   },
   "outputs": [
    {
     "data": {
      "text/html": [
       "<div>\n",
       "<style scoped>\n",
       "    .dataframe tbody tr th:only-of-type {\n",
       "        vertical-align: middle;\n",
       "    }\n",
       "\n",
       "    .dataframe tbody tr th {\n",
       "        vertical-align: top;\n",
       "    }\n",
       "\n",
       "    .dataframe thead th {\n",
       "        text-align: right;\n",
       "    }\n",
       "</style>\n",
       "<table border=\"1\" class=\"dataframe\">\n",
       "  <thead>\n",
       "    <tr style=\"text-align: right;\">\n",
       "      <th></th>\n",
       "      <th>loss</th>\n",
       "      <th>accuracy</th>\n",
       "      <th>val_loss</th>\n",
       "      <th>val_accuracy</th>\n",
       "      <th>epoch</th>\n",
       "      <th>Batch Size</th>\n",
       "    </tr>\n",
       "  </thead>\n",
       "  <tbody>\n",
       "    <tr>\n",
       "      <th>0</th>\n",
       "      <td>1.636091e+12</td>\n",
       "      <td>0.099987</td>\n",
       "      <td>2.304595</td>\n",
       "      <td>0.0977</td>\n",
       "      <td>0</td>\n",
       "      <td>32_</td>\n",
       "    </tr>\n",
       "    <tr>\n",
       "      <th>1</th>\n",
       "      <td>2.303276e+00</td>\n",
       "      <td>0.099887</td>\n",
       "      <td>2.302965</td>\n",
       "      <td>0.1023</td>\n",
       "      <td>1</td>\n",
       "      <td>32_</td>\n",
       "    </tr>\n",
       "    <tr>\n",
       "      <th>2</th>\n",
       "      <td>2.303268e+00</td>\n",
       "      <td>0.101713</td>\n",
       "      <td>2.302982</td>\n",
       "      <td>0.0999</td>\n",
       "      <td>2</td>\n",
       "      <td>32_</td>\n",
       "    </tr>\n",
       "    <tr>\n",
       "      <th>3</th>\n",
       "      <td>2.303356e+00</td>\n",
       "      <td>0.099300</td>\n",
       "      <td>2.304019</td>\n",
       "      <td>0.0977</td>\n",
       "      <td>3</td>\n",
       "      <td>32_</td>\n",
       "    </tr>\n",
       "    <tr>\n",
       "      <th>4</th>\n",
       "      <td>2.303346e+00</td>\n",
       "      <td>0.100700</td>\n",
       "      <td>2.303142</td>\n",
       "      <td>0.0985</td>\n",
       "      <td>4</td>\n",
       "      <td>32_</td>\n",
       "    </tr>\n",
       "  </tbody>\n",
       "</table>\n",
       "</div>"
      ],
      "text/plain": [
       "           loss  accuracy  val_loss  val_accuracy  epoch Batch Size\n",
       "0  1.636091e+12  0.099987  2.304595        0.0977      0        32_\n",
       "1  2.303276e+00  0.099887  2.302965        0.1023      1        32_\n",
       "2  2.303268e+00  0.101713  2.302982        0.0999      2        32_\n",
       "3  2.303356e+00  0.099300  2.304019        0.0977      3        32_\n",
       "4  2.303346e+00  0.100700  2.303142        0.0985      4        32_"
      ]
     },
     "execution_count": 33,
     "metadata": {
      "tags": []
     },
     "output_type": "execute_result"
    }
   ],
   "source": [
    "import pandas as pd\n",
    "\n",
    "learning_rates = []\n",
    "\n",
    "for exp, result in zip([\n",
    "                        bt_model100, \n",
    "                        bt_model10, \n",
    "                        bt_model01, \n",
    "                        bt_model001, \n",
    "                        bt_model0001,\n",
    "                        bt_model00001\n",
    "                        ], \n",
    "                       [\n",
    "                        \"1.0_\", \n",
    "                        \".1_\", \n",
    "                        \".01_\", \n",
    "                        \".001_\", \n",
    "                        \".0001_\",\n",
    "                        \".00001_\"\n",
    "                        ]\n",
    "):\n",
    "\n",
    "  df = pd.DataFrame.from_dict(exp.history)\n",
    "  df['epoch'] = df.index.values\n",
    "  df['Batch Size'] = result\n",
    "\n",
    "  batch_sizes.append(df)\n",
    "\n",
    "df = pd.concat(batch_sizes)\n",
    "df['Batch Size'] = df['Batch Size'].astype('str')\n",
    "df.head()"
   ]
  },
  {
   "cell_type": "code",
   "execution_count": null,
   "metadata": {
    "colab": {
     "base_uri": "https://localhost:8080/",
     "height": 573
    },
    "colab_type": "code",
    "id": "UyAmMGQvd8G4",
    "outputId": "e3025001-232e-4e5b-b84f-1588c313f06d"
   },
   "outputs": [
    {
     "data": {
      "image/png": "[encoded data removed]",
      "text/plain": [
       "<Figure size 432x288 with 1 Axes>"
      ]
     },
     "metadata": {
      "needs_background": "light",
      "tags": []
     },
     "output_type": "display_data"
    },
    {
     "data": {
      "image/png": "[encoded data removed]",
      "text/plain": [
       "<Figure size 432x288 with 1 Axes>"
      ]
     },
     "metadata": {
      "needs_background": "light",
      "tags": []
     },
     "output_type": "display_data"
    }
   ],
   "source": [
    "# import seaborn as sns\n",
    "ax = sns.lineplot(x='epoch', y='val_accuracy', hue='Batch Size', data=df)  # Remove hue='Batch Size'\n",
    "ax.set_title(\"Comparing Different Learning Rates - Val Accuracy Scores\")\n",
    "plt.show();\n",
    "\n",
    "ax = sns.lineplot(x='epoch', y='val_loss', hue='Batch Size', data=df) # Remove hue='Batch Size' \n",
    "ax.set_title(\"Comparing Different Learning Rates - Val Loss Scores\")\n",
    "plt.show();"
   ]
  },
  {
   "cell_type": "markdown",
   "metadata": {
    "colab_type": "text",
    "id": "whuqm8c1bre7"
   },
   "source": [
    "#WRITE YOUR ANALYSIS HERE\n",
    "\n",
    "#Find the best learning rate and use for the following section\n"
   ]
  },
  {
   "cell_type": "markdown",
   "metadata": {
    "colab_type": "text",
    "id": "gxMtSRhV9Q7I"
   },
   "source": [
    "### Experiment with different Optimizers\n",
    "* Run 5 experiments with various optimizers available in TensorFlow. See list [here](https://www.tensorflow.org/api_docs/python/tf/keras/optimizers)\n",
    "* Visualize the results\n",
    "* Write up an analysis of the experiments and select the \"best\" performing model among your experiments. Make sure to compare against the previous experiments and your model's performance yesterday.\n",
    "* Repeat the experiment combining Learning Rate and different optimizers. Does the best performing model change? "
   ]
  },
  {
   "cell_type": "code",
   "execution_count": null,
   "metadata": {
    "colab": {
     "base_uri": "https://localhost:8080/",
     "height": 955
    },
    "colab_type": "code",
    "id": "J1M4GqXVdqvB",
    "outputId": "dd4c72a2-5406-436c-bbd4-b55e195c6705"
   },
   "outputs": [
    {
     "name": "stdout",
     "output_type": "stream",
     "text": [
      "Epoch 1/27\n",
      "2500/2500 [==============================] - 5s 2ms/step - loss: 2.1020 - accuracy: 0.3194 - val_loss: 1.7058 - val_accuracy: 0.3853\n",
      "Epoch 2/27\n",
      "2500/2500 [==============================] - 4s 2ms/step - loss: 1.6434 - accuracy: 0.4201 - val_loss: 1.5818 - val_accuracy: 0.4406\n",
      "Epoch 3/27\n",
      "2500/2500 [==============================] - 4s 2ms/step - loss: 1.5435 - accuracy: 0.4569 - val_loss: 1.5083 - val_accuracy: 0.4711\n",
      "Epoch 4/27\n",
      "2500/2500 [==============================] - 4s 2ms/step - loss: 1.4458 - accuracy: 0.4989 - val_loss: 1.3968 - val_accuracy: 0.4968\n",
      "Epoch 5/27\n",
      "2500/2500 [==============================] - 4s 2ms/step - loss: 1.3519 - accuracy: 0.5365 - val_loss: 1.3181 - val_accuracy: 0.5647\n",
      "Epoch 6/27\n",
      "2500/2500 [==============================] - 4s 2ms/step - loss: 1.2600 - accuracy: 0.5761 - val_loss: 1.2420 - val_accuracy: 0.5949\n",
      "Epoch 7/27\n",
      "2500/2500 [==============================] - 4s 2ms/step - loss: 1.1963 - accuracy: 0.6041 - val_loss: 1.1853 - val_accuracy: 0.6111\n",
      "Epoch 8/27\n",
      "2500/2500 [==============================] - 4s 2ms/step - loss: 1.1488 - accuracy: 0.6201 - val_loss: 1.1378 - val_accuracy: 0.6294\n",
      "Epoch 9/27\n",
      "2500/2500 [==============================] - 4s 2ms/step - loss: 1.1073 - accuracy: 0.6363 - val_loss: 1.1364 - val_accuracy: 0.6398\n",
      "Epoch 10/27\n",
      "2500/2500 [==============================] - 4s 2ms/step - loss: 1.0718 - accuracy: 0.6516 - val_loss: 1.0970 - val_accuracy: 0.6660\n",
      "Epoch 11/27\n",
      "2500/2500 [==============================] - 5s 2ms/step - loss: 1.0437 - accuracy: 0.6616 - val_loss: 1.0602 - val_accuracy: 0.6610\n",
      "Epoch 12/27\n",
      "2500/2500 [==============================] - 4s 2ms/step - loss: 1.0203 - accuracy: 0.6705 - val_loss: 1.0411 - val_accuracy: 0.6706\n",
      "Epoch 13/27\n",
      "2500/2500 [==============================] - 4s 2ms/step - loss: 0.9984 - accuracy: 0.6787 - val_loss: 1.0042 - val_accuracy: 0.6801\n",
      "Epoch 14/27\n",
      "2500/2500 [==============================] - 4s 2ms/step - loss: 0.9706 - accuracy: 0.6930 - val_loss: 0.9813 - val_accuracy: 0.7020\n",
      "Epoch 15/27\n",
      "2500/2500 [==============================] - 4s 2ms/step - loss: 0.9426 - accuracy: 0.7081 - val_loss: 0.9568 - val_accuracy: 0.7134\n",
      "Epoch 16/27\n",
      "2500/2500 [==============================] - 4s 2ms/step - loss: 0.9235 - accuracy: 0.7151 - val_loss: 0.9629 - val_accuracy: 0.6985\n",
      "Epoch 17/27\n",
      "2500/2500 [==============================] - 4s 2ms/step - loss: 0.9051 - accuracy: 0.7229 - val_loss: 0.9307 - val_accuracy: 0.7195\n",
      "Epoch 18/27\n",
      "2500/2500 [==============================] - 4s 2ms/step - loss: 0.8873 - accuracy: 0.7285 - val_loss: 0.9221 - val_accuracy: 0.7247\n",
      "Epoch 19/27\n",
      "2500/2500 [==============================] - 4s 2ms/step - loss: 0.8767 - accuracy: 0.7313 - val_loss: 0.9128 - val_accuracy: 0.7247\n",
      "Epoch 20/27\n",
      "2500/2500 [==============================] - 4s 2ms/step - loss: 0.8647 - accuracy: 0.7333 - val_loss: 0.9125 - val_accuracy: 0.7247\n",
      "Epoch 21/27\n",
      "2500/2500 [==============================] - 5s 2ms/step - loss: 0.8545 - accuracy: 0.7370 - val_loss: 0.8976 - val_accuracy: 0.7249\n",
      "Epoch 22/27\n",
      "2500/2500 [==============================] - 4s 2ms/step - loss: 0.8439 - accuracy: 0.7398 - val_loss: 0.8915 - val_accuracy: 0.7310\n",
      "Epoch 23/27\n",
      "2500/2500 [==============================] - 4s 2ms/step - loss: 0.8351 - accuracy: 0.7426 - val_loss: 0.8873 - val_accuracy: 0.7295\n",
      "Epoch 24/27\n",
      "2500/2500 [==============================] - 4s 2ms/step - loss: 0.8296 - accuracy: 0.7454 - val_loss: 0.8837 - val_accuracy: 0.7344\n",
      "Epoch 25/27\n",
      "2500/2500 [==============================] - 4s 2ms/step - loss: 0.8228 - accuracy: 0.7469 - val_loss: 0.8727 - val_accuracy: 0.7409\n",
      "Epoch 26/27\n",
      "2500/2500 [==============================] - 4s 2ms/step - loss: 0.8180 - accuracy: 0.7498 - val_loss: 0.8712 - val_accuracy: 0.7407\n",
      "Epoch 27/27\n",
      "2500/2500 [==============================] - 4s 2ms/step - loss: 0.8135 - accuracy: 0.7502 - val_loss: 0.8692 - val_accuracy: 0.7395\n"
     ]
    }
   ],
   "source": [
    "from tensorflow.keras.optimizers import SGD\n",
    "quickdraw_model_SGD = create_model(.001, SGD)\n",
    "\n",
    "bt_modelSGD = quickdraw_model_SGD.fit(X_train, y_train,\n",
    "                                # Hyperparameters!\n",
    "                                epochs=27,\n",
    "                                batch_size=32,\n",
    "                                validation_data=(X_test, y_test))"
   ]
  },
  {
   "cell_type": "code",
   "execution_count": null,
   "metadata": {
    "colab": {
     "base_uri": "https://localhost:8080/",
     "height": 955
    },
    "colab_type": "code",
    "id": "ujLuzdNA91ip",
    "outputId": "4645a3c1-2fb3-4603-88ed-55172a2ba55d"
   },
   "outputs": [
    {
     "name": "stdout",
     "output_type": "stream",
     "text": [
      "Epoch 1/27\n",
      "2500/2500 [==============================] - 5s 2ms/step - loss: 94.2628 - accuracy: 0.0998 - val_loss: 62.7314 - val_accuracy: 0.1173\n",
      "Epoch 2/27\n",
      "2500/2500 [==============================] - 5s 2ms/step - loss: 50.5870 - accuracy: 0.1235 - val_loss: 40.8647 - val_accuracy: 0.1462\n",
      "Epoch 3/27\n",
      "2500/2500 [==============================] - 5s 2ms/step - loss: 35.7419 - accuracy: 0.1462 - val_loss: 30.4789 - val_accuracy: 0.1596\n",
      "Epoch 4/27\n",
      "2500/2500 [==============================] - 5s 2ms/step - loss: 27.0945 - accuracy: 0.1606 - val_loss: 23.2940 - val_accuracy: 0.1707\n",
      "Epoch 5/27\n",
      "2500/2500 [==============================] - 5s 2ms/step - loss: 20.8072 - accuracy: 0.1691 - val_loss: 18.0310 - val_accuracy: 0.1773\n",
      "Epoch 6/27\n",
      "2500/2500 [==============================] - 5s 2ms/step - loss: 16.1220 - accuracy: 0.1734 - val_loss: 14.1423 - val_accuracy: 0.1783\n",
      "Epoch 7/27\n",
      "2500/2500 [==============================] - 5s 2ms/step - loss: 12.7156 - accuracy: 0.1769 - val_loss: 11.3229 - val_accuracy: 0.1775\n",
      "Epoch 8/27\n",
      "2500/2500 [==============================] - 5s 2ms/step - loss: 10.2051 - accuracy: 0.1788 - val_loss: 9.1662 - val_accuracy: 0.1814\n",
      "Epoch 9/27\n",
      "2500/2500 [==============================] - 5s 2ms/step - loss: 8.3068 - accuracy: 0.1825 - val_loss: 7.5122 - val_accuracy: 0.1819\n",
      "Epoch 10/27\n",
      "2500/2500 [==============================] - 5s 2ms/step - loss: 6.8510 - accuracy: 0.1834 - val_loss: 6.2426 - val_accuracy: 0.1844\n",
      "Epoch 11/27\n",
      "2500/2500 [==============================] - 5s 2ms/step - loss: 5.7385 - accuracy: 0.1851 - val_loss: 5.2901 - val_accuracy: 0.1869\n",
      "Epoch 12/27\n",
      "2500/2500 [==============================] - 5s 2ms/step - loss: 4.8972 - accuracy: 0.1851 - val_loss: 4.5670 - val_accuracy: 0.1852\n",
      "Epoch 13/27\n",
      "2500/2500 [==============================] - 5s 2ms/step - loss: 4.2689 - accuracy: 0.1830 - val_loss: 4.0183 - val_accuracy: 0.1789\n",
      "Epoch 14/27\n",
      "2500/2500 [==============================] - 5s 2ms/step - loss: 3.8003 - accuracy: 0.1806 - val_loss: 3.6126 - val_accuracy: 0.1761\n",
      "Epoch 15/27\n",
      "2500/2500 [==============================] - 5s 2ms/step - loss: 3.4529 - accuracy: 0.1769 - val_loss: 3.3125 - val_accuracy: 0.1723\n",
      "Epoch 16/27\n",
      "2500/2500 [==============================] - 5s 2ms/step - loss: 3.1935 - accuracy: 0.1748 - val_loss: 3.0826 - val_accuracy: 0.1685\n",
      "Epoch 17/27\n",
      "2500/2500 [==============================] - 5s 2ms/step - loss: 2.9976 - accuracy: 0.1721 - val_loss: 2.9088 - val_accuracy: 0.1662\n",
      "Epoch 18/27\n",
      "2500/2500 [==============================] - 5s 2ms/step - loss: 2.8516 - accuracy: 0.1703 - val_loss: 2.7773 - val_accuracy: 0.1637\n",
      "Epoch 19/27\n",
      "2500/2500 [==============================] - 5s 2ms/step - loss: 2.7401 - accuracy: 0.1689 - val_loss: 2.6766 - val_accuracy: 0.1638\n",
      "Epoch 20/27\n",
      "2500/2500 [==============================] - 5s 2ms/step - loss: 2.6536 - accuracy: 0.1669 - val_loss: 2.5983 - val_accuracy: 0.1625\n",
      "Epoch 21/27\n",
      "2500/2500 [==============================] - 5s 2ms/step - loss: 2.5851 - accuracy: 0.1662 - val_loss: 2.5381 - val_accuracy: 0.1632\n",
      "Epoch 22/27\n",
      "2500/2500 [==============================] - 5s 2ms/step - loss: 2.5312 - accuracy: 0.1659 - val_loss: 2.4909 - val_accuracy: 0.1624\n",
      "Epoch 23/27\n",
      "2500/2500 [==============================] - 5s 2ms/step - loss: 2.4878 - accuracy: 0.1661 - val_loss: 2.4527 - val_accuracy: 0.1638\n",
      "Epoch 24/27\n",
      "2500/2500 [==============================] - 5s 2ms/step - loss: 2.4525 - accuracy: 0.1667 - val_loss: 2.4212 - val_accuracy: 0.1647\n",
      "Epoch 25/27\n",
      "2500/2500 [==============================] - 5s 2ms/step - loss: 2.4230 - accuracy: 0.1677 - val_loss: 2.3946 - val_accuracy: 0.1659\n",
      "Epoch 26/27\n",
      "2500/2500 [==============================] - 5s 2ms/step - loss: 2.3973 - accuracy: 0.1695 - val_loss: 2.3726 - val_accuracy: 0.1673\n",
      "Epoch 27/27\n",
      "2500/2500 [==============================] - 5s 2ms/step - loss: 2.3750 - accuracy: 0.1708 - val_loss: 2.3536 - val_accuracy: 0.1696\n"
     ]
    }
   ],
   "source": [
    "from tensorflow.keras.optimizers import Adadelta\n",
    "quickdraw_model_Adadelta = create_model(.001, Adadelta)\n",
    "\n",
    "bt_modelAdadelta = quickdraw_model_Adadelta.fit(X_train, y_train,\n",
    "                                # Hyperparameters!\n",
    "                                epochs=27,\n",
    "                                batch_size=32,\n",
    "                                validation_data=(X_test, y_test))"
   ]
  },
  {
   "cell_type": "code",
   "execution_count": null,
   "metadata": {
    "colab": {
     "base_uri": "https://localhost:8080/",
     "height": 955
    },
    "colab_type": "code",
    "id": "qUsZ3584dqqH",
    "outputId": "99081f30-2471-4540-f61a-55850e075475"
   },
   "outputs": [
    {
     "name": "stdout",
     "output_type": "stream",
     "text": [
      "Epoch 1/27\n",
      "2500/2500 [==============================] - 5s 2ms/step - loss: 5.7730 - accuracy: 0.2564 - val_loss: 2.5131 - val_accuracy: 0.2598\n",
      "Epoch 2/27\n",
      "2500/2500 [==============================] - 5s 2ms/step - loss: 2.3343 - accuracy: 0.2628 - val_loss: 2.2063 - val_accuracy: 0.2574\n",
      "Epoch 3/27\n",
      "2500/2500 [==============================] - 4s 2ms/step - loss: 2.1452 - accuracy: 0.2742 - val_loss: 2.0903 - val_accuracy: 0.2877\n",
      "Epoch 4/27\n",
      "2500/2500 [==============================] - 4s 2ms/step - loss: 2.0486 - accuracy: 0.2996 - val_loss: 2.0125 - val_accuracy: 0.3073\n",
      "Epoch 5/27\n",
      "2500/2500 [==============================] - 5s 2ms/step - loss: 1.9796 - accuracy: 0.3202 - val_loss: 1.9532 - val_accuracy: 0.3236\n",
      "Epoch 6/27\n",
      "2500/2500 [==============================] - 5s 2ms/step - loss: 1.9260 - accuracy: 0.3349 - val_loss: 1.9062 - val_accuracy: 0.3379\n",
      "Epoch 7/27\n",
      "2500/2500 [==============================] - 5s 2ms/step - loss: 1.8832 - accuracy: 0.3470 - val_loss: 1.8697 - val_accuracy: 0.3494\n",
      "Epoch 8/27\n",
      "2500/2500 [==============================] - 5s 2ms/step - loss: 1.8480 - accuracy: 0.3544 - val_loss: 1.8399 - val_accuracy: 0.3593\n",
      "Epoch 9/27\n",
      "2500/2500 [==============================] - 5s 2ms/step - loss: 1.8189 - accuracy: 0.3628 - val_loss: 1.8155 - val_accuracy: 0.3676\n",
      "Epoch 10/27\n",
      "2500/2500 [==============================] - 4s 2ms/step - loss: 1.7938 - accuracy: 0.3676 - val_loss: 1.7949 - val_accuracy: 0.3694\n",
      "Epoch 11/27\n",
      "2500/2500 [==============================] - 5s 2ms/step - loss: 1.7715 - accuracy: 0.3736 - val_loss: 1.7744 - val_accuracy: 0.3732\n",
      "Epoch 12/27\n",
      "2500/2500 [==============================] - 4s 2ms/step - loss: 1.7525 - accuracy: 0.3787 - val_loss: 1.7584 - val_accuracy: 0.3803\n",
      "Epoch 13/27\n",
      "2500/2500 [==============================] - 4s 2ms/step - loss: 1.7358 - accuracy: 0.3844 - val_loss: 1.7429 - val_accuracy: 0.3905\n",
      "Epoch 14/27\n",
      "2500/2500 [==============================] - 5s 2ms/step - loss: 1.7204 - accuracy: 0.3868 - val_loss: 1.7303 - val_accuracy: 0.3942\n",
      "Epoch 15/27\n",
      "2500/2500 [==============================] - 5s 2ms/step - loss: 1.7063 - accuracy: 0.3916 - val_loss: 1.7194 - val_accuracy: 0.3931\n",
      "Epoch 16/27\n",
      "2500/2500 [==============================] - 4s 2ms/step - loss: 1.6931 - accuracy: 0.3960 - val_loss: 1.7097 - val_accuracy: 0.3956\n",
      "Epoch 17/27\n",
      "2500/2500 [==============================] - 4s 2ms/step - loss: 1.6809 - accuracy: 0.4007 - val_loss: 1.6993 - val_accuracy: 0.4001\n",
      "Epoch 18/27\n",
      "2500/2500 [==============================] - 4s 2ms/step - loss: 1.6698 - accuracy: 0.4048 - val_loss: 1.6905 - val_accuracy: 0.4009\n",
      "Epoch 19/27\n",
      "2500/2500 [==============================] - 5s 2ms/step - loss: 1.6596 - accuracy: 0.4077 - val_loss: 1.6819 - val_accuracy: 0.4053\n",
      "Epoch 20/27\n",
      "2500/2500 [==============================] - 4s 2ms/step - loss: 1.6499 - accuracy: 0.4122 - val_loss: 1.6731 - val_accuracy: 0.4097\n",
      "Epoch 21/27\n",
      "2500/2500 [==============================] - 5s 2ms/step - loss: 1.6405 - accuracy: 0.4167 - val_loss: 1.6645 - val_accuracy: 0.4121\n",
      "Epoch 22/27\n",
      "2500/2500 [==============================] - 4s 2ms/step - loss: 1.6315 - accuracy: 0.4184 - val_loss: 1.6554 - val_accuracy: 0.4155\n",
      "Epoch 23/27\n",
      "2500/2500 [==============================] - 4s 2ms/step - loss: 1.6226 - accuracy: 0.4239 - val_loss: 1.6466 - val_accuracy: 0.4203\n",
      "Epoch 24/27\n",
      "2500/2500 [==============================] - 4s 2ms/step - loss: 1.6141 - accuracy: 0.4272 - val_loss: 1.6381 - val_accuracy: 0.4246\n",
      "Epoch 25/27\n",
      "2500/2500 [==============================] - 5s 2ms/step - loss: 1.6059 - accuracy: 0.4306 - val_loss: 1.6306 - val_accuracy: 0.4278\n",
      "Epoch 26/27\n",
      "2500/2500 [==============================] - 5s 2ms/step - loss: 1.5980 - accuracy: 0.4335 - val_loss: 1.6236 - val_accuracy: 0.4316\n",
      "Epoch 27/27\n",
      "2500/2500 [==============================] - 5s 2ms/step - loss: 1.5906 - accuracy: 0.4358 - val_loss: 1.6170 - val_accuracy: 0.4339\n"
     ]
    }
   ],
   "source": [
    "from tensorflow.keras.optimizers import Adagrad\n",
    "quickdraw_model_Adagrad = create_model(.001, Adagrad)\n",
    "\n",
    "bt_modelAdagrad = quickdraw_model_Adagrad.fit(X_train, y_train,\n",
    "                                # Hyperparameters!\n",
    "                                epochs=27,\n",
    "                                batch_size=32,\n",
    "                                validation_data=(X_test, y_test))"
   ]
  },
  {
   "cell_type": "code",
   "execution_count": null,
   "metadata": {
    "colab": {
     "base_uri": "https://localhost:8080/",
     "height": 955
    },
    "colab_type": "code",
    "id": "o33dmtzcdqmP",
    "outputId": "82e774ef-5eea-4c4d-8ea9-8d605ecc13ae"
   },
   "outputs": [
    {
     "name": "stdout",
     "output_type": "stream",
     "text": [
      "Epoch 1/27\n",
      "2500/2500 [==============================] - 5s 2ms/step - loss: 2.0208 - accuracy: 0.4351 - val_loss: 1.3335 - val_accuracy: 0.5524\n",
      "Epoch 2/27\n",
      "2500/2500 [==============================] - 5s 2ms/step - loss: 1.2311 - accuracy: 0.5889 - val_loss: 1.1791 - val_accuracy: 0.5976\n",
      "Epoch 3/27\n",
      "2500/2500 [==============================] - 5s 2ms/step - loss: 1.1294 - accuracy: 0.6301 - val_loss: 1.0836 - val_accuracy: 0.6533\n",
      "Epoch 4/27\n",
      "2500/2500 [==============================] - 5s 2ms/step - loss: 1.0584 - accuracy: 0.6619 - val_loss: 1.0783 - val_accuracy: 0.6717\n",
      "Epoch 5/27\n",
      "2500/2500 [==============================] - 5s 2ms/step - loss: 1.0115 - accuracy: 0.6757 - val_loss: 0.9922 - val_accuracy: 0.6864\n",
      "Epoch 6/27\n",
      "2500/2500 [==============================] - 5s 2ms/step - loss: 0.9676 - accuracy: 0.6872 - val_loss: 0.9297 - val_accuracy: 0.7014\n",
      "Epoch 7/27\n",
      "2500/2500 [==============================] - 5s 2ms/step - loss: 0.9105 - accuracy: 0.7054 - val_loss: 0.8834 - val_accuracy: 0.7148\n",
      "Epoch 8/27\n",
      "2500/2500 [==============================] - 5s 2ms/step - loss: 0.8805 - accuracy: 0.7138 - val_loss: 0.8696 - val_accuracy: 0.7168\n",
      "Epoch 9/27\n",
      "2500/2500 [==============================] - 5s 2ms/step - loss: 0.8565 - accuracy: 0.7205 - val_loss: 0.8646 - val_accuracy: 0.7209\n",
      "Epoch 10/27\n",
      "2500/2500 [==============================] - 5s 2ms/step - loss: 0.8426 - accuracy: 0.7279 - val_loss: 0.8510 - val_accuracy: 0.7252\n",
      "Epoch 11/27\n",
      "2500/2500 [==============================] - 5s 2ms/step - loss: 0.8215 - accuracy: 0.7373 - val_loss: 0.8258 - val_accuracy: 0.7394\n",
      "Epoch 12/27\n",
      "2500/2500 [==============================] - 5s 2ms/step - loss: 0.8047 - accuracy: 0.7455 - val_loss: 0.8301 - val_accuracy: 0.7378\n",
      "Epoch 13/27\n",
      "2500/2500 [==============================] - 5s 2ms/step - loss: 0.7962 - accuracy: 0.7508 - val_loss: 0.8138 - val_accuracy: 0.7517\n",
      "Epoch 14/27\n",
      "2500/2500 [==============================] - 5s 2ms/step - loss: 0.7781 - accuracy: 0.7574 - val_loss: 0.8116 - val_accuracy: 0.7437\n",
      "Epoch 15/27\n",
      "2500/2500 [==============================] - 5s 2ms/step - loss: 0.7591 - accuracy: 0.7624 - val_loss: 0.7697 - val_accuracy: 0.7607\n",
      "Epoch 16/27\n",
      "2500/2500 [==============================] - 5s 2ms/step - loss: 0.7474 - accuracy: 0.7665 - val_loss: 0.7681 - val_accuracy: 0.7643\n",
      "Epoch 17/27\n",
      "2500/2500 [==============================] - 5s 2ms/step - loss: 0.7327 - accuracy: 0.7703 - val_loss: 0.7534 - val_accuracy: 0.7668\n",
      "Epoch 18/27\n",
      "2500/2500 [==============================] - 5s 2ms/step - loss: 0.7075 - accuracy: 0.7815 - val_loss: 0.7391 - val_accuracy: 0.7744\n",
      "Epoch 19/27\n",
      "2500/2500 [==============================] - 5s 2ms/step - loss: 0.7010 - accuracy: 0.7820 - val_loss: 0.7344 - val_accuracy: 0.7736\n",
      "Epoch 20/27\n",
      "2500/2500 [==============================] - 5s 2ms/step - loss: 0.6943 - accuracy: 0.7853 - val_loss: 0.7297 - val_accuracy: 0.7753\n",
      "Epoch 21/27\n",
      "2500/2500 [==============================] - 5s 2ms/step - loss: 0.6892 - accuracy: 0.7864 - val_loss: 0.7407 - val_accuracy: 0.7675\n",
      "Epoch 22/27\n",
      "2500/2500 [==============================] - 5s 2ms/step - loss: 0.6852 - accuracy: 0.7870 - val_loss: 0.7441 - val_accuracy: 0.7743\n",
      "Epoch 23/27\n",
      "2500/2500 [==============================] - 5s 2ms/step - loss: 0.6798 - accuracy: 0.7896 - val_loss: 0.7203 - val_accuracy: 0.7819\n",
      "Epoch 24/27\n",
      "2500/2500 [==============================] - 5s 2ms/step - loss: 0.6787 - accuracy: 0.7890 - val_loss: 0.7272 - val_accuracy: 0.7773\n",
      "Epoch 25/27\n",
      "2500/2500 [==============================] - 5s 2ms/step - loss: 0.6763 - accuracy: 0.7903 - val_loss: 0.7400 - val_accuracy: 0.7741\n",
      "Epoch 26/27\n",
      "2500/2500 [==============================] - 5s 2ms/step - loss: 0.6694 - accuracy: 0.7932 - val_loss: 0.7317 - val_accuracy: 0.7791\n",
      "Epoch 27/27\n",
      "2500/2500 [==============================] - 5s 2ms/step - loss: 0.6672 - accuracy: 0.7936 - val_loss: 0.7182 - val_accuracy: 0.7822\n"
     ]
    }
   ],
   "source": [
    "from tensorflow.keras.optimizers import Adam\n",
    "quickdraw_model_Adam = create_model(.001, Adam)\n",
    "\n",
    "bt_modelAdam = quickdraw_model_Adam.fit(X_train, y_train,\n",
    "                                # Hyperparameters!\n",
    "                                epochs=27,\n",
    "                                batch_size=32,\n",
    "                                validation_data=(X_test, y_test))"
   ]
  },
  {
   "cell_type": "code",
   "execution_count": null,
   "metadata": {
    "colab": {
     "base_uri": "https://localhost:8080/",
     "height": 52
    },
    "colab_type": "code",
    "id": "14L3kfSVKmjT",
    "outputId": "c9bbe424-9ce1-430f-ca07-65ddbb30d9c7"
   },
   "outputs": [
    {
     "name": "stdout",
     "output_type": "stream",
     "text": [
      "\u001b[31mERROR: Could not find a version that satisfies the requirement FtrlOptimizer (from versions: none)\u001b[0m\n",
      "\u001b[31mERROR: No matching distribution found for FtrlOptimizer\u001b[0m\n"
     ]
    }
   ],
   "source": [
    "# !pip install FtrlOptimizer  # What is the dependency for this optimizer??"
   ]
  },
  {
   "cell_type": "code",
   "execution_count": null,
   "metadata": {
    "colab": {
     "base_uri": "https://localhost:8080/",
     "height": 376
    },
    "colab_type": "code",
    "id": "vSGTmEmAxWTs",
    "outputId": "2370dc19-9746-4473-c64a-c63d2faba54a"
   },
   "outputs": [
    {
     "ename": "ImportError",
     "evalue": "ignored",
     "output_type": "error",
     "traceback": [
      "\u001b[0;31m---------------------------------------------------------------------------\u001b[0m",
      "\u001b[0;31mImportError\u001b[0m                               Traceback (most recent call last)",
      "\u001b[0;32m<ipython-input-41-e78d5f4cd115>\u001b[0m in \u001b[0;36m<module>\u001b[0;34m()\u001b[0m\n\u001b[0;32m----> 1\u001b[0;31m \u001b[0;32mfrom\u001b[0m \u001b[0mtensorflow\u001b[0m\u001b[0;34m.\u001b[0m\u001b[0mkeras\u001b[0m\u001b[0;34m.\u001b[0m\u001b[0moptimizers\u001b[0m \u001b[0;32mimport\u001b[0m \u001b[0mFTRL\u001b[0m\u001b[0;34m\u001b[0m\u001b[0;34m\u001b[0m\u001b[0m\n\u001b[0m\u001b[1;32m      2\u001b[0m \u001b[0mquickdraw_model_FTRL\u001b[0m \u001b[0;34m=\u001b[0m \u001b[0mcreate_model\u001b[0m\u001b[0;34m(\u001b[0m\u001b[0;36m.001\u001b[0m\u001b[0;34m,\u001b[0m \u001b[0mFTRL\u001b[0m\u001b[0;34m)\u001b[0m\u001b[0;34m\u001b[0m\u001b[0;34m\u001b[0m\u001b[0m\n\u001b[1;32m      3\u001b[0m \u001b[0;34m\u001b[0m\u001b[0m\n\u001b[1;32m      4\u001b[0m bt_modelFTRL = quickdraw_model_FTRL.fit(X_train, y_train,\n\u001b[1;32m      5\u001b[0m                                 \u001b[0;31m# Hyperparameters!\u001b[0m\u001b[0;34m\u001b[0m\u001b[0;34m\u001b[0m\u001b[0;34m\u001b[0m\u001b[0m\n",
      "\u001b[0;31mImportError\u001b[0m: cannot import name 'FTRL'",
      "",
      "\u001b[0;31m---------------------------------------------------------------------------\u001b[0;32m\nNOTE: If your import is failing due to a missing package, you can\nmanually install dependencies using either !pip or !apt.\n\nTo view examples of installing some common dependencies, click the\n\"Open Examples\" button below.\n\u001b[0;31m---------------------------------------------------------------------------\u001b[0m\n"
     ]
    }
   ],
   "source": [
    "# from tensorflow.keras.optimizers import FTRL\n",
    "# quickdraw_model_FTRL = create_model(.001, FTRL)\n",
    "\n",
    "# bt_modelFTRL = quickdraw_model_FTRL.fit(X_train, y_train,\n",
    "#                                 # Hyperparameters!\n",
    "#                                 epochs=27,\n",
    "#                                 batch_size=32,\n",
    "#                                 validation_data=(X_test, y_test))"
   ]
  },
  {
   "cell_type": "code",
   "execution_count": null,
   "metadata": {
    "colab": {
     "base_uri": "https://localhost:8080/",
     "height": 52
    },
    "colab_type": "code",
    "id": "O4789NJ0LjgI",
    "outputId": "55e79044-1670-4eea-9098-e4ee53f7c294"
   },
   "outputs": [
    {
     "name": "stdout",
     "output_type": "stream",
     "text": [
      "\u001b[31mERROR: Could not find a version that satisfies the requirement NAdam (from versions: none)\u001b[0m\n",
      "\u001b[31mERROR: No matching distribution found for NAdam\u001b[0m\n"
     ]
    }
   ],
   "source": [
    "# !pip install NAdam  # What is the dependency for this optimizer??"
   ]
  },
  {
   "cell_type": "code",
   "execution_count": null,
   "metadata": {
    "colab": {
     "base_uri": "https://localhost:8080/",
     "height": 376
    },
    "colab_type": "code",
    "id": "3ZFy19u9xupD",
    "outputId": "54bfffd7-64fd-41f1-8602-0ab516a99628"
   },
   "outputs": [
    {
     "ename": "ImportError",
     "evalue": "ignored",
     "output_type": "error",
     "traceback": [
      "\u001b[0;31m---------------------------------------------------------------------------\u001b[0m",
      "\u001b[0;31mImportError\u001b[0m                               Traceback (most recent call last)",
      "\u001b[0;32m<ipython-input-44-c0abca17a1a6>\u001b[0m in \u001b[0;36m<module>\u001b[0;34m()\u001b[0m\n\u001b[0;32m----> 1\u001b[0;31m \u001b[0;32mfrom\u001b[0m \u001b[0mtensorflow\u001b[0m\u001b[0;34m.\u001b[0m\u001b[0mkeras\u001b[0m\u001b[0;34m.\u001b[0m\u001b[0moptimizers\u001b[0m \u001b[0;32mimport\u001b[0m \u001b[0mNAdam\u001b[0m\u001b[0;34m\u001b[0m\u001b[0;34m\u001b[0m\u001b[0m\n\u001b[0m\u001b[1;32m      2\u001b[0m \u001b[0mquickdraw_model_NAdam\u001b[0m \u001b[0;34m=\u001b[0m \u001b[0mcreate_model\u001b[0m\u001b[0;34m(\u001b[0m\u001b[0;36m.001\u001b[0m\u001b[0;34m,\u001b[0m \u001b[0mNAdam\u001b[0m\u001b[0;34m)\u001b[0m\u001b[0;34m\u001b[0m\u001b[0;34m\u001b[0m\u001b[0m\n\u001b[1;32m      3\u001b[0m \u001b[0;34m\u001b[0m\u001b[0m\n\u001b[1;32m      4\u001b[0m bt_modelNAdam = quickdraw_model_NAdam.fit(X_train, y_train,\n\u001b[1;32m      5\u001b[0m                                 \u001b[0;31m# Hyperparameters!\u001b[0m\u001b[0;34m\u001b[0m\u001b[0;34m\u001b[0m\u001b[0;34m\u001b[0m\u001b[0m\n",
      "\u001b[0;31mImportError\u001b[0m: cannot import name 'NAdam'",
      "",
      "\u001b[0;31m---------------------------------------------------------------------------\u001b[0;32m\nNOTE: If your import is failing due to a missing package, you can\nmanually install dependencies using either !pip or !apt.\n\nTo view examples of installing some common dependencies, click the\n\"Open Examples\" button below.\n\u001b[0;31m---------------------------------------------------------------------------\u001b[0m\n"
     ]
    }
   ],
   "source": [
    "# from tensorflow.keras.optimizers import NAdam\n",
    "# # Much like Adam is essentially RMSprop with momentum, Nadam is Adam with Nesterov momentum.\n",
    "# quickdraw_model_NAdam = create_model(.001, NAdam)\n",
    "\n",
    "# bt_modelNAdam = quickdraw_model_NAdam.fit(X_train, y_train,\n",
    "#                                 # Hyperparameters!\n",
    "#                                 epochs=27,\n",
    "#                                 batch_size=32,\n",
    "#                                 validation_data=(X_test, y_test))"
   ]
  },
  {
   "cell_type": "code",
   "execution_count": null,
   "metadata": {
    "colab": {
     "base_uri": "https://localhost:8080/",
     "height": 781
    },
    "colab_type": "code",
    "id": "KncCGRWExull",
    "outputId": "46d54358-b74a-4056-9f28-9d66f305da08"
   },
   "outputs": [
    {
     "name": "stdout",
     "output_type": "stream",
     "text": [
      "Epoch 1/22\n",
      "2500/2500 [==============================] - 5s 2ms/step - loss: 1.7010 - accuracy: 0.5659 - val_loss: 1.1913 - val_accuracy: 0.6857\n",
      "Epoch 2/22\n",
      "2500/2500 [==============================] - 5s 2ms/step - loss: 1.0925 - accuracy: 0.6989 - val_loss: 1.0582 - val_accuracy: 0.6664\n",
      "Epoch 3/22\n",
      "2500/2500 [==============================] - 5s 2ms/step - loss: 1.0133 - accuracy: 0.7260 - val_loss: 1.0175 - val_accuracy: 0.7356\n",
      "Epoch 4/22\n",
      "2500/2500 [==============================] - 5s 2ms/step - loss: 0.9500 - accuracy: 0.7415 - val_loss: 0.9377 - val_accuracy: 0.7526\n",
      "Epoch 5/22\n",
      "2500/2500 [==============================] - 5s 2ms/step - loss: 0.9051 - accuracy: 0.7567 - val_loss: 0.9190 - val_accuracy: 0.7492\n",
      "Epoch 6/22\n",
      "2500/2500 [==============================] - 5s 2ms/step - loss: 0.8540 - accuracy: 0.7709 - val_loss: 0.8797 - val_accuracy: 0.7791\n",
      "Epoch 7/22\n",
      "2500/2500 [==============================] - 5s 2ms/step - loss: 0.8193 - accuracy: 0.7806 - val_loss: 0.8547 - val_accuracy: 0.7806\n",
      "Epoch 8/22\n",
      "2500/2500 [==============================] - 5s 2ms/step - loss: 0.7904 - accuracy: 0.7865 - val_loss: 0.8411 - val_accuracy: 0.7884\n",
      "Epoch 9/22\n",
      "2500/2500 [==============================] - 5s 2ms/step - loss: 0.7761 - accuracy: 0.7912 - val_loss: 0.8549 - val_accuracy: 0.7750\n",
      "Epoch 10/22\n",
      "2500/2500 [==============================] - 5s 2ms/step - loss: 0.7587 - accuracy: 0.7938 - val_loss: 0.8169 - val_accuracy: 0.7827\n",
      "Epoch 11/22\n",
      "2500/2500 [==============================] - 5s 2ms/step - loss: 0.7465 - accuracy: 0.7953 - val_loss: 0.8260 - val_accuracy: 0.7873\n",
      "Epoch 12/22\n",
      "2500/2500 [==============================] - 5s 2ms/step - loss: 0.7411 - accuracy: 0.7965 - val_loss: 0.8129 - val_accuracy: 0.7956\n",
      "Epoch 13/22\n",
      "2500/2500 [==============================] - 5s 2ms/step - loss: 0.7471 - accuracy: 0.7980 - val_loss: 0.8061 - val_accuracy: 0.7942\n",
      "Epoch 14/22\n",
      "2500/2500 [==============================] - 5s 2ms/step - loss: 0.7530 - accuracy: 0.7987 - val_loss: 0.8555 - val_accuracy: 0.7877\n",
      "Epoch 15/22\n",
      "2500/2500 [==============================] - 5s 2ms/step - loss: 0.7571 - accuracy: 0.8010 - val_loss: 0.8415 - val_accuracy: 0.7972\n",
      "Epoch 16/22\n",
      "2500/2500 [==============================] - 5s 2ms/step - loss: 0.7606 - accuracy: 0.8007 - val_loss: 0.8540 - val_accuracy: 0.7857\n",
      "Epoch 17/22\n",
      "2500/2500 [==============================] - 5s 2ms/step - loss: 0.7833 - accuracy: 0.7981 - val_loss: 0.8439 - val_accuracy: 0.7928\n",
      "Epoch 18/22\n",
      "2500/2500 [==============================] - 5s 2ms/step - loss: 0.7856 - accuracy: 0.7951 - val_loss: 0.8939 - val_accuracy: 0.7905\n",
      "Epoch 19/22\n",
      "2500/2500 [==============================] - 5s 2ms/step - loss: 0.8104 - accuracy: 0.7899 - val_loss: 0.8593 - val_accuracy: 0.7781\n",
      "Epoch 20/22\n",
      "2500/2500 [==============================] - 5s 2ms/step - loss: 0.8103 - accuracy: 0.7878 - val_loss: 0.9019 - val_accuracy: 0.7706\n",
      "Epoch 21/22\n",
      "2500/2500 [==============================] - 5s 2ms/step - loss: 0.8113 - accuracy: 0.7867 - val_loss: 1.0461 - val_accuracy: 0.7750\n",
      "Epoch 22/22\n",
      "2500/2500 [==============================] - 5s 2ms/step - loss: 0.8137 - accuracy: 0.7864 - val_loss: 0.9624 - val_accuracy: 0.7932\n"
     ]
    }
   ],
   "source": [
    "from tensorflow.keras.optimizers import RMSprop\n",
    "quickdraw_model_RMSprop = create_model(.001,  RMSprop)\n",
    "\n",
    "bt_modelRMSprop = quickdraw_model_RMSprop.fit(X_train, y_train,\n",
    "                                # Hyperparameters!\n",
    "                                epochs=22,\n",
    "                                batch_size=32,\n",
    "                                validation_data=(X_test, y_test))"
   ]
  },
  {
   "cell_type": "code",
   "execution_count": null,
   "metadata": {
    "colab": {},
    "colab_type": "code",
    "id": "TTLN2Ut9xufv"
   },
   "outputs": [],
   "source": []
  },
  {
   "cell_type": "markdown",
   "metadata": {
    "colab_type": "text",
    "id": "O_BQeqMrd5TC"
   },
   "source": [
    "#Graph the Different Optimizations"
   ]
  },
  {
   "cell_type": "code",
   "execution_count": null,
   "metadata": {
    "colab": {
     "base_uri": "https://localhost:8080/",
     "height": 206
    },
    "colab_type": "code",
    "id": "ZIwp03_Pd4yJ",
    "outputId": "92159994-8b13-49a0-b325-f41cfa3a8720"
   },
   "outputs": [
    {
     "data": {
      "text/html": [
       "<div>\n",
       "<style scoped>\n",
       "    .dataframe tbody tr th:only-of-type {\n",
       "        vertical-align: middle;\n",
       "    }\n",
       "\n",
       "    .dataframe tbody tr th {\n",
       "        vertical-align: top;\n",
       "    }\n",
       "\n",
       "    .dataframe thead th {\n",
       "        text-align: right;\n",
       "    }\n",
       "</style>\n",
       "<table border=\"1\" class=\"dataframe\">\n",
       "  <thead>\n",
       "    <tr style=\"text-align: right;\">\n",
       "      <th></th>\n",
       "      <th>loss</th>\n",
       "      <th>accuracy</th>\n",
       "      <th>val_loss</th>\n",
       "      <th>val_accuracy</th>\n",
       "      <th>epoch</th>\n",
       "      <th>Batch Size</th>\n",
       "    </tr>\n",
       "  </thead>\n",
       "  <tbody>\n",
       "    <tr>\n",
       "      <th>0</th>\n",
       "      <td>2.102048</td>\n",
       "      <td>0.319438</td>\n",
       "      <td>1.705822</td>\n",
       "      <td>0.3853</td>\n",
       "      <td>0</td>\n",
       "      <td>SGD_</td>\n",
       "    </tr>\n",
       "    <tr>\n",
       "      <th>1</th>\n",
       "      <td>1.643383</td>\n",
       "      <td>0.420063</td>\n",
       "      <td>1.581813</td>\n",
       "      <td>0.4406</td>\n",
       "      <td>1</td>\n",
       "      <td>SGD_</td>\n",
       "    </tr>\n",
       "    <tr>\n",
       "      <th>2</th>\n",
       "      <td>1.543473</td>\n",
       "      <td>0.456888</td>\n",
       "      <td>1.508285</td>\n",
       "      <td>0.4711</td>\n",
       "      <td>2</td>\n",
       "      <td>SGD_</td>\n",
       "    </tr>\n",
       "    <tr>\n",
       "      <th>3</th>\n",
       "      <td>1.445844</td>\n",
       "      <td>0.498888</td>\n",
       "      <td>1.396767</td>\n",
       "      <td>0.4968</td>\n",
       "      <td>3</td>\n",
       "      <td>SGD_</td>\n",
       "    </tr>\n",
       "    <tr>\n",
       "      <th>4</th>\n",
       "      <td>1.351927</td>\n",
       "      <td>0.536550</td>\n",
       "      <td>1.318135</td>\n",
       "      <td>0.5647</td>\n",
       "      <td>4</td>\n",
       "      <td>SGD_</td>\n",
       "    </tr>\n",
       "  </tbody>\n",
       "</table>\n",
       "</div>"
      ],
      "text/plain": [
       "       loss  accuracy  val_loss  val_accuracy  epoch Batch Size\n",
       "0  2.102048  0.319438  1.705822        0.3853      0       SGD_\n",
       "1  1.643383  0.420063  1.581813        0.4406      1       SGD_\n",
       "2  1.543473  0.456888  1.508285        0.4711      2       SGD_\n",
       "3  1.445844  0.498888  1.396767        0.4968      3       SGD_\n",
       "4  1.351927  0.536550  1.318135        0.5647      4       SGD_"
      ]
     },
     "execution_count": 48,
     "metadata": {
      "tags": []
     },
     "output_type": "execute_result"
    }
   ],
   "source": [
    "import pandas as pd\n",
    "\n",
    "batch_sizes = []\n",
    "\n",
    "for exp, result in zip([\n",
    "                        bt_modelSGD, \n",
    "                        bt_modelAdadelta, \n",
    "                        bt_modelAdagrad, \n",
    "                        bt_modelAdam, \n",
    "                        # bt_modelFTRL,\n",
    "                        # bt_modelNAdam,\n",
    "                        bt_modelRMSprop,\n",
    "                        ], \n",
    "                       [\n",
    "                        \"SGD_\", \n",
    "                        \"Adadelta_\", \n",
    "                        \"Adagrad_\", \n",
    "                        \"Adam_\", \n",
    "                        # \"FTRL_\",\n",
    "                        # \"NAdam_\",\n",
    "                        \"RMSprop_\"\n",
    "                        ]\n",
    "):\n",
    "\n",
    "  df = pd.DataFrame.from_dict(exp.history)\n",
    "  df['epoch'] = df.index.values\n",
    "  df['Batch Size'] = result\n",
    "\n",
    "  batch_sizes.append(df)\n",
    "\n",
    "df = pd.concat(batch_sizes)\n",
    "df['Batch Size'] = df['Batch Size'].astype('str')\n",
    "df.head()"
   ]
  },
  {
   "cell_type": "code",
   "execution_count": null,
   "metadata": {
    "colab": {
     "base_uri": "https://localhost:8080/",
     "height": 573
    },
    "colab_type": "code",
    "id": "NJJiAKC4d401",
    "outputId": "6b017f02-20fc-45f4-ca9e-1e88c680a75a"
   },
   "outputs": [
    {
     "data": {
      "image/png": "[encoded data removed]",
      "text/plain": [
       "<Figure size 432x288 with 1 Axes>"
      ]
     },
     "metadata": {
      "needs_background": "light",
      "tags": []
     },
     "output_type": "display_data"
    },
    {
     "data": {
      "image/png": "[encoded data removed]",
      "text/plain": [
       "<Figure size 432x288 with 1 Axes>"
      ]
     },
     "metadata": {
      "needs_background": "light",
      "tags": []
     },
     "output_type": "display_data"
    }
   ],
   "source": [
    "# import seaborn as sns\n",
    "ax = sns.lineplot(x='epoch', y='val_accuracy', hue='Batch Size', data=df)\n",
    "ax.set_title(\"Comparing Different Optimization Techniques - Val Accuracy Scores\")\n",
    "plt.show();\n",
    "\n",
    "ax = sns.lineplot(x='epoch', y='val_loss', hue='Batch Size', data=df);\n",
    "ax.set_title(\"Comparing Different Optimization Techniques - Val Loss Scores\")\n",
    "plt.show();"
   ]
  },
  {
   "cell_type": "markdown",
   "metadata": {
    "colab_type": "text",
    "id": "VtAU71Sibv0v"
   },
   "source": [
    "#WRITE YOU ANAYLSIS HERE\n",
    "\n",
    "#Find the best optimizer and post your anaylsis of all three sections."
   ]
  },
  {
   "cell_type": "markdown",
   "metadata": {
    "colab_type": "text",
    "id": "82QgAIpPNpmC"
   },
   "source": [
    "#Take your best model and improve on it for one final winner\n",
    "\n",
    "RMSprop Documentation: https://www.tensorflow.org/api_docs/python/tf/keras/optimizers/RMSprop"
   ]
  },
  {
   "cell_type": "code",
   "execution_count": null,
   "metadata": {
    "colab": {
     "base_uri": "https://localhost:8080/",
     "height": 781
    },
    "colab_type": "code",
    "id": "2p40CsWqO_RK",
    "outputId": "7978b39f-7074-4a8e-d5be-f884e47403db"
   },
   "outputs": [
    {
     "name": "stdout",
     "output_type": "stream",
     "text": [
      "Epoch 1/22\n",
      "16000/16000 [==============================] - 33s 2ms/step - loss: 1.8928 - accuracy: 0.5035 - val_loss: 1.6396 - val_accuracy: 0.5663\n",
      "Epoch 2/22\n",
      "16000/16000 [==============================] - 33s 2ms/step - loss: 1.6220 - accuracy: 0.5893 - val_loss: 1.7098 - val_accuracy: 0.6047\n",
      "Epoch 3/22\n",
      "16000/16000 [==============================] - 33s 2ms/step - loss: 1.6378 - accuracy: 0.5968 - val_loss: 1.7717 - val_accuracy: 0.5849\n",
      "Epoch 4/22\n",
      "16000/16000 [==============================] - 33s 2ms/step - loss: 1.6394 - accuracy: 0.6078 - val_loss: 1.6630 - val_accuracy: 0.6353\n",
      "Epoch 5/22\n",
      "16000/16000 [==============================] - 35s 2ms/step - loss: 1.6586 - accuracy: 0.6258 - val_loss: 1.5639 - val_accuracy: 0.5608\n",
      "Epoch 6/22\n",
      "16000/16000 [==============================] - 33s 2ms/step - loss: 1.8834 - accuracy: 0.5109 - val_loss: 1.8998 - val_accuracy: 0.3861\n",
      "Epoch 7/22\n",
      "16000/16000 [==============================] - 33s 2ms/step - loss: 2.1753 - accuracy: 0.4003 - val_loss: 2.4359 - val_accuracy: 0.3838\n",
      "Epoch 8/22\n",
      "16000/16000 [==============================] - 33s 2ms/step - loss: 2.2692 - accuracy: 0.3579 - val_loss: 2.3057 - val_accuracy: 0.3338\n",
      "Epoch 9/22\n",
      "16000/16000 [==============================] - 33s 2ms/step - loss: 2.3406 - accuracy: 0.3251 - val_loss: 2.4123 - val_accuracy: 0.2738\n",
      "Epoch 10/22\n",
      "16000/16000 [==============================] - 33s 2ms/step - loss: 2.3669 - accuracy: 0.3173 - val_loss: 2.4394 - val_accuracy: 0.3160\n",
      "Epoch 11/22\n",
      "16000/16000 [==============================] - 33s 2ms/step - loss: 2.3668 - accuracy: 0.3249 - val_loss: 3.6120 - val_accuracy: 0.3127\n",
      "Epoch 12/22\n",
      "16000/16000 [==============================] - 33s 2ms/step - loss: 2.4550 - accuracy: 0.3193 - val_loss: 3.0375 - val_accuracy: 0.3403\n",
      "Epoch 13/22\n",
      "16000/16000 [==============================] - 33s 2ms/step - loss: 2.4290 - accuracy: 0.3176 - val_loss: 2.3275 - val_accuracy: 0.2990\n",
      "Epoch 14/22\n",
      "16000/16000 [==============================] - 35s 2ms/step - loss: 2.4985 - accuracy: 0.3092 - val_loss: 3.2816 - val_accuracy: 0.3090\n",
      "Epoch 15/22\n",
      "16000/16000 [==============================] - 33s 2ms/step - loss: 2.5391 - accuracy: 0.3169 - val_loss: 2.6795 - val_accuracy: 0.2477\n",
      "Epoch 16/22\n",
      "16000/16000 [==============================] - 33s 2ms/step - loss: 2.4841 - accuracy: 0.3076 - val_loss: 2.9657 - val_accuracy: 0.3211\n",
      "Epoch 17/22\n",
      "16000/16000 [==============================] - 33s 2ms/step - loss: 2.5140 - accuracy: 0.3126 - val_loss: 2.4025 - val_accuracy: 0.2601\n",
      "Epoch 18/22\n",
      "16000/16000 [==============================] - 33s 2ms/step - loss: 2.4498 - accuracy: 0.2890 - val_loss: 2.7826 - val_accuracy: 0.2720\n",
      "Epoch 19/22\n",
      "16000/16000 [==============================] - 33s 2ms/step - loss: 2.5330 - accuracy: 0.2838 - val_loss: 2.8192 - val_accuracy: 0.3098\n",
      "Epoch 20/22\n",
      "16000/16000 [==============================] - 33s 2ms/step - loss: 2.5277 - accuracy: 0.2988 - val_loss: 2.5585 - val_accuracy: 0.3177\n",
      "Epoch 21/22\n",
      "16000/16000 [==============================] - 33s 2ms/step - loss: 2.5505 - accuracy: 0.3106 - val_loss: 3.4819 - val_accuracy: 0.3036\n",
      "Epoch 22/22\n",
      "16000/16000 [==============================] - 33s 2ms/step - loss: 2.5142 - accuracy: 0.3040 - val_loss: 2.5326 - val_accuracy: 0.2785\n"
     ]
    }
   ],
   "source": [
    "from tensorflow.keras.optimizers import RMSprop\n",
    "quickdraw_model_RMSprop = create_model(.001,  RMSprop)\n",
    "\n",
    "bt_model1 = quickdraw_model_RMSprop.fit(X_train, y_train,\n",
    "                                # Hyperparameters!\n",
    "                                epochs=22,\n",
    "                                batch_size=5,\n",
    "                                validation_data=(X_test, y_test))"
   ]
  },
  {
   "cell_type": "code",
   "execution_count": null,
   "metadata": {
    "colab": {
     "base_uri": "https://localhost:8080/",
     "height": 538
    },
    "colab_type": "code",
    "id": "LbL74UMmNogd",
    "outputId": "b185f4bf-ef4a-4044-a494-d9a47d332556"
   },
   "outputs": [
    {
     "name": "stdout",
     "output_type": "stream",
     "text": [
      "Epoch 1/15\n",
      "2425/2425 [==============================] - 6s 2ms/step - loss: 1.9448 - accuracy: 0.6076 - val_loss: 1.0980 - val_accuracy: 0.6783\n",
      "Epoch 2/15\n",
      "2425/2425 [==============================] - 6s 2ms/step - loss: 0.9770 - accuracy: 0.7327 - val_loss: 0.9426 - val_accuracy: 0.7327\n",
      "Epoch 3/15\n",
      "2425/2425 [==============================] - 6s 2ms/step - loss: 0.8885 - accuracy: 0.7574 - val_loss: 0.9089 - val_accuracy: 0.7428\n",
      "Epoch 4/15\n",
      "2425/2425 [==============================] - 6s 2ms/step - loss: 0.8434 - accuracy: 0.7704 - val_loss: 0.9015 - val_accuracy: 0.7728\n",
      "Epoch 5/15\n",
      "2425/2425 [==============================] - 7s 3ms/step - loss: 0.8265 - accuracy: 0.7758 - val_loss: 0.8419 - val_accuracy: 0.7737\n",
      "Epoch 6/15\n",
      "2425/2425 [==============================] - 6s 3ms/step - loss: 0.7991 - accuracy: 0.7842 - val_loss: 0.8060 - val_accuracy: 0.7838\n",
      "Epoch 7/15\n",
      "2425/2425 [==============================] - 6s 2ms/step - loss: 0.7675 - accuracy: 0.7888 - val_loss: 0.8411 - val_accuracy: 0.7803\n",
      "Epoch 8/15\n",
      "2425/2425 [==============================] - 6s 2ms/step - loss: 0.7627 - accuracy: 0.7945 - val_loss: 0.9150 - val_accuracy: 0.7917\n",
      "Epoch 9/15\n",
      "2425/2425 [==============================] - 6s 2ms/step - loss: 0.7712 - accuracy: 0.7987 - val_loss: 0.8259 - val_accuracy: 0.7716\n",
      "Epoch 10/15\n",
      "2425/2425 [==============================] - 6s 2ms/step - loss: 0.7458 - accuracy: 0.8026 - val_loss: 0.8161 - val_accuracy: 0.7797\n",
      "Epoch 11/15\n",
      "2425/2425 [==============================] - 6s 2ms/step - loss: 0.7363 - accuracy: 0.8041 - val_loss: 0.8204 - val_accuracy: 0.7897\n",
      "Epoch 12/15\n",
      "2425/2425 [==============================] - 6s 2ms/step - loss: 0.7274 - accuracy: 0.8077 - val_loss: 0.8942 - val_accuracy: 0.7747\n",
      "Epoch 13/15\n",
      "2425/2425 [==============================] - 6s 2ms/step - loss: 0.7322 - accuracy: 0.8104 - val_loss: 0.8149 - val_accuracy: 0.7900\n",
      "Epoch 14/15\n",
      "2425/2425 [==============================] - 6s 2ms/step - loss: 0.7150 - accuracy: 0.8118 - val_loss: 0.8370 - val_accuracy: 0.8075\n",
      "Epoch 15/15\n",
      "2425/2425 [==============================] - 6s 2ms/step - loss: 0.7144 - accuracy: 0.8124 - val_loss: 0.9525 - val_accuracy: 0.7998\n"
     ]
    }
   ],
   "source": [
    "from tensorflow.keras.optimizers import RMSprop\n",
    "quickdraw_model_RMSprop = create_model(.001,  RMSprop)\n",
    "\n",
    "bt_model2 = quickdraw_model_RMSprop.fit(X_train, y_train,\n",
    "                                # Hyperparameters!\n",
    "                                epochs=15,\n",
    "                                batch_size=33,\n",
    "                                validation_data=(X_test, y_test))"
   ]
  },
  {
   "cell_type": "code",
   "execution_count": null,
   "metadata": {
    "colab": {
     "base_uri": "https://localhost:8080/",
     "height": 469
    },
    "colab_type": "code",
    "id": "VS7HSeTuO_V2",
    "outputId": "1ee5e8e6-709f-411b-dcc2-0f72532fc78e"
   },
   "outputs": [
    {
     "name": "stdout",
     "output_type": "stream",
     "text": [
      "Epoch 1/13\n",
      "2000/2000 [==============================] - 4s 2ms/step - loss: 1.9434 - accuracy: 0.5256 - val_loss: 1.2186 - val_accuracy: 0.6299\n",
      "Epoch 2/13\n",
      "2000/2000 [==============================] - 4s 2ms/step - loss: 1.1565 - accuracy: 0.6696 - val_loss: 1.1348 - val_accuracy: 0.6993\n",
      "Epoch 3/13\n",
      "2000/2000 [==============================] - 4s 2ms/step - loss: 1.0514 - accuracy: 0.7088 - val_loss: 1.0679 - val_accuracy: 0.7179\n",
      "Epoch 4/13\n",
      "2000/2000 [==============================] - 4s 2ms/step - loss: 0.9867 - accuracy: 0.7281 - val_loss: 0.9888 - val_accuracy: 0.7306\n",
      "Epoch 5/13\n",
      "2000/2000 [==============================] - 4s 2ms/step - loss: 0.9409 - accuracy: 0.7404 - val_loss: 0.9432 - val_accuracy: 0.7549\n",
      "Epoch 6/13\n",
      "2000/2000 [==============================] - 4s 2ms/step - loss: 0.9038 - accuracy: 0.7498 - val_loss: 0.9330 - val_accuracy: 0.7485\n",
      "Epoch 7/13\n",
      "2000/2000 [==============================] - 4s 2ms/step - loss: 0.8711 - accuracy: 0.7603 - val_loss: 0.9081 - val_accuracy: 0.7611\n",
      "Epoch 8/13\n",
      "2000/2000 [==============================] - 4s 2ms/step - loss: 0.8380 - accuracy: 0.7692 - val_loss: 0.8860 - val_accuracy: 0.7613\n",
      "Epoch 9/13\n",
      "2000/2000 [==============================] - 4s 2ms/step - loss: 0.8082 - accuracy: 0.7774 - val_loss: 0.8573 - val_accuracy: 0.7673\n",
      "Epoch 10/13\n",
      "2000/2000 [==============================] - 4s 2ms/step - loss: 0.7856 - accuracy: 0.7849 - val_loss: 0.8660 - val_accuracy: 0.7824\n",
      "Epoch 11/13\n",
      "2000/2000 [==============================] - 4s 2ms/step - loss: 0.7611 - accuracy: 0.7914 - val_loss: 0.8295 - val_accuracy: 0.7840\n",
      "Epoch 12/13\n",
      "2000/2000 [==============================] - 4s 2ms/step - loss: 0.7496 - accuracy: 0.7936 - val_loss: 0.8356 - val_accuracy: 0.7842\n",
      "Epoch 13/13\n",
      "2000/2000 [==============================] - 4s 2ms/step - loss: 0.7458 - accuracy: 0.7977 - val_loss: 0.8293 - val_accuracy: 0.7834\n"
     ]
    }
   ],
   "source": [
    "from tensorflow.keras.optimizers import RMSprop\n",
    "quickdraw_model_RMSprop = create_model(.001,  RMSprop)\n",
    "\n",
    "bt_model3 = quickdraw_model_RMSprop.fit(X_train, y_train,\n",
    "                                # Hyperparameters!\n",
    "                                epochs=13,\n",
    "                                batch_size=40,\n",
    "                                validation_data=(X_test, y_test))"
   ]
  },
  {
   "cell_type": "code",
   "execution_count": null,
   "metadata": {
    "colab": {
     "base_uri": "https://localhost:8080/",
     "height": 677
    },
    "colab_type": "code",
    "id": "QVWCW1AOO_bW",
    "outputId": "abaad334-a5dc-430e-bedb-68b8c16bd622"
   },
   "outputs": [
    {
     "name": "stdout",
     "output_type": "stream",
     "text": [
      "Epoch 1/19\n",
      "800/800 [==============================] - 2s 2ms/step - loss: 2.2923 - accuracy: 0.4268 - val_loss: 1.2995 - val_accuracy: 0.5450\n",
      "Epoch 2/19\n",
      "800/800 [==============================] - 2s 2ms/step - loss: 1.1621 - accuracy: 0.6151 - val_loss: 1.0985 - val_accuracy: 0.6556\n",
      "Epoch 3/19\n",
      "800/800 [==============================] - 2s 2ms/step - loss: 1.0325 - accuracy: 0.6633 - val_loss: 1.0119 - val_accuracy: 0.6801\n",
      "Epoch 4/19\n",
      "800/800 [==============================] - 2s 2ms/step - loss: 0.9785 - accuracy: 0.6870 - val_loss: 0.9632 - val_accuracy: 0.7064\n",
      "Epoch 5/19\n",
      "800/800 [==============================] - 2s 2ms/step - loss: 0.9372 - accuracy: 0.7022 - val_loss: 0.9308 - val_accuracy: 0.6968\n",
      "Epoch 6/19\n",
      "800/800 [==============================] - 2s 2ms/step - loss: 0.9064 - accuracy: 0.7138 - val_loss: 0.9101 - val_accuracy: 0.7080\n",
      "Epoch 7/19\n",
      "800/800 [==============================] - 2s 2ms/step - loss: 0.8878 - accuracy: 0.7216 - val_loss: 0.8949 - val_accuracy: 0.7215\n",
      "Epoch 8/19\n",
      "800/800 [==============================] - 2s 2ms/step - loss: 0.8676 - accuracy: 0.7283 - val_loss: 0.9322 - val_accuracy: 0.7216\n",
      "Epoch 9/19\n",
      "800/800 [==============================] - 2s 2ms/step - loss: 0.8518 - accuracy: 0.7349 - val_loss: 0.9092 - val_accuracy: 0.7160\n",
      "Epoch 10/19\n",
      "800/800 [==============================] - 2s 2ms/step - loss: 0.8337 - accuracy: 0.7421 - val_loss: 0.8548 - val_accuracy: 0.7416\n",
      "Epoch 11/19\n",
      "800/800 [==============================] - 2s 2ms/step - loss: 0.8184 - accuracy: 0.7484 - val_loss: 0.8399 - val_accuracy: 0.7478\n",
      "Epoch 12/19\n",
      "800/800 [==============================] - 2s 2ms/step - loss: 0.8005 - accuracy: 0.7547 - val_loss: 0.8566 - val_accuracy: 0.7442\n",
      "Epoch 13/19\n",
      "800/800 [==============================] - 2s 2ms/step - loss: 0.7873 - accuracy: 0.7590 - val_loss: 0.8106 - val_accuracy: 0.7563\n",
      "Epoch 14/19\n",
      "800/800 [==============================] - 2s 2ms/step - loss: 0.7833 - accuracy: 0.7635 - val_loss: 0.8492 - val_accuracy: 0.7589\n",
      "Epoch 15/19\n",
      "800/800 [==============================] - 2s 2ms/step - loss: 0.7630 - accuracy: 0.7717 - val_loss: 0.8115 - val_accuracy: 0.7665\n",
      "Epoch 16/19\n",
      "800/800 [==============================] - 2s 2ms/step - loss: 0.7440 - accuracy: 0.7786 - val_loss: 0.7857 - val_accuracy: 0.7717\n",
      "Epoch 17/19\n",
      "800/800 [==============================] - 2s 2ms/step - loss: 0.7266 - accuracy: 0.7860 - val_loss: 0.7948 - val_accuracy: 0.7759\n",
      "Epoch 18/19\n",
      "800/800 [==============================] - 2s 2ms/step - loss: 0.7135 - accuracy: 0.7895 - val_loss: 0.7942 - val_accuracy: 0.7820\n",
      "Epoch 19/19\n",
      "800/800 [==============================] - 2s 2ms/step - loss: 0.7037 - accuracy: 0.7922 - val_loss: 0.7809 - val_accuracy: 0.7769\n"
     ]
    }
   ],
   "source": [
    "from tensorflow.keras.optimizers import RMSprop\n",
    "quickdraw_model_RMSprop = create_model(.001,  RMSprop)\n",
    "\n",
    "bt_model4 = quickdraw_model_RMSprop.fit(X_train, y_train,\n",
    "                                # Hyperparameters!\n",
    "                                epochs=19,\n",
    "                                batch_size=100,\n",
    "                                validation_data=(X_test, y_test))"
   ]
  },
  {
   "cell_type": "markdown",
   "metadata": {
    "colab_type": "text",
    "id": "H2rfZX0GTQ7I"
   },
   "source": [
    "#Graph the final results"
   ]
  },
  {
   "cell_type": "code",
   "execution_count": null,
   "metadata": {
    "colab": {
     "base_uri": "https://localhost:8080/",
     "height": 206
    },
    "colab_type": "code",
    "id": "_losSOa_TPwb",
    "outputId": "43bc123e-ffdb-47a1-e29e-81221b5fe28d"
   },
   "outputs": [
    {
     "data": {
      "text/html": [
       "<div>\n",
       "<style scoped>\n",
       "    .dataframe tbody tr th:only-of-type {\n",
       "        vertical-align: middle;\n",
       "    }\n",
       "\n",
       "    .dataframe tbody tr th {\n",
       "        vertical-align: top;\n",
       "    }\n",
       "\n",
       "    .dataframe thead th {\n",
       "        text-align: right;\n",
       "    }\n",
       "</style>\n",
       "<table border=\"1\" class=\"dataframe\">\n",
       "  <thead>\n",
       "    <tr style=\"text-align: right;\">\n",
       "      <th></th>\n",
       "      <th>loss</th>\n",
       "      <th>accuracy</th>\n",
       "      <th>val_loss</th>\n",
       "      <th>val_accuracy</th>\n",
       "      <th>epoch</th>\n",
       "      <th>Batch Size</th>\n",
       "    </tr>\n",
       "  </thead>\n",
       "  <tbody>\n",
       "    <tr>\n",
       "      <th>0</th>\n",
       "      <td>2.102048</td>\n",
       "      <td>0.319438</td>\n",
       "      <td>1.705822</td>\n",
       "      <td>0.3853</td>\n",
       "      <td>0</td>\n",
       "      <td>SGD_</td>\n",
       "    </tr>\n",
       "    <tr>\n",
       "      <th>1</th>\n",
       "      <td>1.643383</td>\n",
       "      <td>0.420063</td>\n",
       "      <td>1.581813</td>\n",
       "      <td>0.4406</td>\n",
       "      <td>1</td>\n",
       "      <td>SGD_</td>\n",
       "    </tr>\n",
       "    <tr>\n",
       "      <th>2</th>\n",
       "      <td>1.543473</td>\n",
       "      <td>0.456888</td>\n",
       "      <td>1.508285</td>\n",
       "      <td>0.4711</td>\n",
       "      <td>2</td>\n",
       "      <td>SGD_</td>\n",
       "    </tr>\n",
       "    <tr>\n",
       "      <th>3</th>\n",
       "      <td>1.445844</td>\n",
       "      <td>0.498888</td>\n",
       "      <td>1.396767</td>\n",
       "      <td>0.4968</td>\n",
       "      <td>3</td>\n",
       "      <td>SGD_</td>\n",
       "    </tr>\n",
       "    <tr>\n",
       "      <th>4</th>\n",
       "      <td>1.351927</td>\n",
       "      <td>0.536550</td>\n",
       "      <td>1.318135</td>\n",
       "      <td>0.5647</td>\n",
       "      <td>4</td>\n",
       "      <td>SGD_</td>\n",
       "    </tr>\n",
       "  </tbody>\n",
       "</table>\n",
       "</div>"
      ],
      "text/plain": [
       "       loss  accuracy  val_loss  val_accuracy  epoch Batch Size\n",
       "0  2.102048  0.319438  1.705822        0.3853      0       SGD_\n",
       "1  1.643383  0.420063  1.581813        0.4406      1       SGD_\n",
       "2  1.543473  0.456888  1.508285        0.4711      2       SGD_\n",
       "3  1.445844  0.498888  1.396767        0.4968      3       SGD_\n",
       "4  1.351927  0.536550  1.318135        0.5647      4       SGD_"
      ]
     },
     "execution_count": 59,
     "metadata": {
      "tags": []
     },
     "output_type": "execute_result"
    }
   ],
   "source": [
    "learning_rates = []\n",
    "\n",
    "for exp, result in zip([\n",
    "                        bt_model1, \n",
    "                        bt_model2, \n",
    "                        bt_model3, \n",
    "                        bt_model4\n",
    "                        ], \n",
    "                       [\n",
    "                        \"model1_\", \n",
    "                        \"model2_\", \n",
    "                        \"model3_\", \n",
    "                        \"model4_\"\n",
    "                        ]\n",
    "):\n",
    "\n",
    "  df = pd.DataFrame.from_dict(exp.history)\n",
    "  df['epoch'] = df.index.values\n",
    "  df['Batch Size'] = result\n",
    "\n",
    "  batch_sizes.append(df)\n",
    "\n",
    "df = pd.concat(batch_sizes)\n",
    "df['Batch Size'] = df['Batch Size'].astype('str')\n",
    "df.head()"
   ]
  },
  {
   "cell_type": "code",
   "execution_count": null,
   "metadata": {
    "colab": {
     "base_uri": "https://localhost:8080/",
     "height": 573
    },
    "colab_type": "code",
    "id": "c7UJ3HytTQB2",
    "outputId": "e1676261-fa33-4860-d68e-a6491ff1eb33"
   },
   "outputs": [
    {
     "data": {
      "image/png": "[encoded data removed]",
      "text/plain": [
       "<Figure size 432x288 with 1 Axes>"
      ]
     },
     "metadata": {
      "needs_background": "light",
      "tags": []
     },
     "output_type": "display_data"
    },
    {
     "data": {
      "image/png": "[encoded data removed]",
      "text/plain": [
       "<Figure size 432x288 with 1 Axes>"
      ]
     },
     "metadata": {
      "needs_background": "light",
      "tags": []
     },
     "output_type": "display_data"
    }
   ],
   "source": [
    "# import seaborn as sns\n",
    "ax = sns.lineplot(x='epoch', y='val_accuracy', hue='Batch Size', data=df)  # Remove hue='Batch Size'\n",
    "ax.set_title(\"Comparing Different Learning Rates - Val Accuracy Scores\")\n",
    "plt.show();\n",
    "\n",
    "ax = sns.lineplot(x='epoch', y='val_loss', hue='Batch Size', data=df) # Remove hue='Batch Size' \n",
    "ax.set_title(\"Comparing Different Learning Rates - Val Loss Scores\")\n",
    "plt.show();"
   ]
  },
  {
   "cell_type": "markdown",
   "metadata": {
    "colab_type": "text",
    "id": "ydAqeY9S8uHA"
   },
   "source": [
    "### Additional Written Tasks\n",
    "\n",
    "1. Describe the process of backpropagation in your own words: \n",
    "```\n",
    "Backpropagation, short for \"backward propagation of errors,\" is an algorithm for supervised learning of artificial neural networks using gradient descent. Given an artificial neural network and an error function, the method calculates the gradient of the error function with respect to the neural network's weights.\n",
    "```\n",
    "\n"
   ]
  },
  {
   "cell_type": "markdown",
   "metadata": {
    "colab_type": "text",
    "id": "FwlRJSfBlCvy"
   },
   "source": [
    "## Stretch Goals: \n",
    "\n",
    "- Implement GridSearch on anyone of the experiments\n",
    "- On the learning rate experiments, implement [EarlyStopping](https://www.tensorflow.org/api_docs/python/tf/keras/callbacks/EarlyStopping)\n",
    "- Review material on the math behind gradient descent: \n",
    "\n",
    "  - Gradient Descent\n",
    "    - Gradient Descent, Step-by-Step  by StatQuest w/ Josh Starmer. This will help you understand the gradient descent based optimization that happens underneath the hood of neural networks. It uses a non-neural network example, which I believe is a gentler introduction. You will hear me refer to this technique as \"vanilla\" gradient descent. \n",
    "    - Stochastic Gradient Descent, Clearly Explained!!! by StatQuest w/ Josh Starmer. This builds on the techniques in the previous video.  This technique is the one that is actually implemented inside modern 'nets. \n",
    "These are great resources to help you understand tomorrow's material at a deeper level. I highly recommend watching these ahead of tomorrow.\n",
    "\n",
    "  - Background Math\n",
    "    - Dot products and duality by 3Blue1Brown. Explains the core linear algebra operation happening in today's perceptron.\n",
    "The paradox of the derivative by 3Blue1Brown. Does a great job explaining a derivative. \n",
    "    - Visualizing the chain rule and product rule by 3Blue1Brown. Explains the black magic that happens within Stochastic Gradient Descent. \n",
    "These math resources are very much optional. They can be very heady, but I encourage you to explore. Your understanding of neural networks will greatly increase if you understand this math background.\n",
    "\n",
    "\n"
   ]
  }
 ],
 "metadata": {
  "accelerator": "GPU",
  "colab": {
   "collapsed_sections": [],
   "name": "LS_DS_432_Train_Assignment.ipynb",
   "provenance": []
  },
  "kernelspec": {
   "display_name": "Python 3",
   "language": "python",
   "name": "python3"
  },
  "language_info": {
   "codemirror_mode": {
    "name": "ipython",
    "version": 3
   },
   "file_extension": ".py",
   "mimetype": "text/x-python",
   "name": "python",
   "nbconvert_exporter": "python",
   "pygments_lexer": "ipython3",
   "version": "3.6.9"
  },
  "latex_envs": {
   "LaTeX_envs_menu_present": true,
   "autoclose": true,
   "autocomplete": true,
   "bibliofile": "biblio.bib",
   "cite_by": "apalike",
   "current_citInitial": 1,
   "eqLabelWithNumbers": true,
   "eqNumInitial": 1,
   "hotkeys": {
    "equation": "Ctrl-E",
    "itemize": "Ctrl-I"
   },
   "labels_anchors": false,
   "latex_user_defs": false,
   "report_style_numbering": false,
   "user_envs_cfg": false
  },
  "nteract": {
   "version": "0.22.4"
  },
  "varInspector": {
   "cols": {
    "lenName": 16,
    "lenType": 16,
    "lenVar": 40
   },
   "kernels_config": {
    "python": {
     "delete_cmd_postfix": "",
     "delete_cmd_prefix": "del ",
     "library": "var_list.py",
     "varRefreshCmd": "print(var_dic_list())"
    },
    "r": {
     "delete_cmd_postfix": ") ",
     "delete_cmd_prefix": "rm(",
     "library": "var_list.r",
     "varRefreshCmd": "cat(var_dic_list()) "
    }
   },
   "types_to_exclude": [
    "module",
    "function",
    "builtin_function_or_method",
    "instance",
    "_Feature"
   ],
   "window_display": false
  }
 },
 "nbformat": 4,
 "nbformat_minor": 1
}
